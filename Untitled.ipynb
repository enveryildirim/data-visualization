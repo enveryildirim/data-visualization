{
 "cells": [
  {
   "cell_type": "code",
   "execution_count": 31,
   "metadata": {},
   "outputs": [],
   "source": [
    "#imports\n",
    "import pandas as pd\n",
    "import numpy as np\n",
    "import matplotlib.pyplot as plt\n",
    "from datetime import date,timedelta\n",
    "from hijri_converter import convert\n",
    "import holidays\n",
    "import warnings\n",
    "warnings.filterwarnings('ignore')\n",
    "%matplotlib inline"
   ]
  },
  {
   "cell_type": "code",
   "execution_count": 8,
   "metadata": {},
   "outputs": [
    {
     "data": {
      "text/html": [
       "<div>\n",
       "<style scoped>\n",
       "    .dataframe tbody tr th:only-of-type {\n",
       "        vertical-align: middle;\n",
       "    }\n",
       "\n",
       "    .dataframe tbody tr th {\n",
       "        vertical-align: top;\n",
       "    }\n",
       "\n",
       "    .dataframe thead th {\n",
       "        text-align: right;\n",
       "    }\n",
       "</style>\n",
       "<table border=\"1\" class=\"dataframe\">\n",
       "  <thead>\n",
       "    <tr style=\"text-align: right;\">\n",
       "      <th></th>\n",
       "      <th>Date</th>\n",
       "      <th>sto_kod</th>\n",
       "      <th>SIPARIS_TIPI</th>\n",
       "      <th>dep_no</th>\n",
       "      <th>dep_adi</th>\n",
       "      <th>GUN_BASI_MEVCUT</th>\n",
       "      <th>DEPOLARDAN_SEVKIYAT</th>\n",
       "      <th>MAGAZALARDAN_TRANSFER</th>\n",
       "      <th>FIRMADAN_GELEN</th>\n",
       "      <th>SATIS_IADE</th>\n",
       "      <th>...</th>\n",
       "      <th>DEPOLARA_IADE</th>\n",
       "      <th>MAGAZALARA_TRANSFER</th>\n",
       "      <th>FIRMAYA_IADE</th>\n",
       "      <th>VIRMAN_CIKISI</th>\n",
       "      <th>SARF_CIKISI</th>\n",
       "      <th>FIRE_CIKISI</th>\n",
       "      <th>GUN_SONU_MEVCUT</th>\n",
       "      <th>MALIYET</th>\n",
       "      <th>PROMOSYON</th>\n",
       "      <th>SATIS_FIYATI</th>\n",
       "    </tr>\n",
       "  </thead>\n",
       "  <tbody>\n",
       "    <tr>\n",
       "      <th>0</th>\n",
       "      <td>2018-01-01</td>\n",
       "      <td>111824</td>\n",
       "      <td>Depo</td>\n",
       "      <td>60</td>\n",
       "      <td>ALANYA ŞUBE</td>\n",
       "      <td>124</td>\n",
       "      <td>0</td>\n",
       "      <td>0</td>\n",
       "      <td>0</td>\n",
       "      <td>0</td>\n",
       "      <td>...</td>\n",
       "      <td>0</td>\n",
       "      <td>0</td>\n",
       "      <td>0</td>\n",
       "      <td>0</td>\n",
       "      <td>0</td>\n",
       "      <td>0</td>\n",
       "      <td>124</td>\n",
       "      <td>24.54</td>\n",
       "      <td>0</td>\n",
       "      <td>29.95</td>\n",
       "    </tr>\n",
       "    <tr>\n",
       "      <th>1</th>\n",
       "      <td>2018-01-01</td>\n",
       "      <td>111824</td>\n",
       "      <td>Depo</td>\n",
       "      <td>2</td>\n",
       "      <td>ÇENGELKÖY ŞUBE</td>\n",
       "      <td>47</td>\n",
       "      <td>0</td>\n",
       "      <td>0</td>\n",
       "      <td>0</td>\n",
       "      <td>0</td>\n",
       "      <td>...</td>\n",
       "      <td>0</td>\n",
       "      <td>0</td>\n",
       "      <td>0</td>\n",
       "      <td>0</td>\n",
       "      <td>0</td>\n",
       "      <td>0</td>\n",
       "      <td>41</td>\n",
       "      <td>24.54</td>\n",
       "      <td>0</td>\n",
       "      <td>29.95</td>\n",
       "    </tr>\n",
       "    <tr>\n",
       "      <th>2</th>\n",
       "      <td>2018-01-01</td>\n",
       "      <td>111824</td>\n",
       "      <td>Depo</td>\n",
       "      <td>3</td>\n",
       "      <td>ŞERİFALİ ŞUBE</td>\n",
       "      <td>49</td>\n",
       "      <td>0</td>\n",
       "      <td>0</td>\n",
       "      <td>0</td>\n",
       "      <td>0</td>\n",
       "      <td>...</td>\n",
       "      <td>0</td>\n",
       "      <td>0</td>\n",
       "      <td>0</td>\n",
       "      <td>0</td>\n",
       "      <td>0</td>\n",
       "      <td>0</td>\n",
       "      <td>46</td>\n",
       "      <td>24.54</td>\n",
       "      <td>0</td>\n",
       "      <td>29.95</td>\n",
       "    </tr>\n",
       "    <tr>\n",
       "      <th>3</th>\n",
       "      <td>2018-01-01</td>\n",
       "      <td>111824</td>\n",
       "      <td>Depo</td>\n",
       "      <td>4</td>\n",
       "      <td>GÖZTEPE ŞUBE</td>\n",
       "      <td>4</td>\n",
       "      <td>0</td>\n",
       "      <td>0</td>\n",
       "      <td>0</td>\n",
       "      <td>0</td>\n",
       "      <td>...</td>\n",
       "      <td>0</td>\n",
       "      <td>0</td>\n",
       "      <td>0</td>\n",
       "      <td>0</td>\n",
       "      <td>0</td>\n",
       "      <td>0</td>\n",
       "      <td>4</td>\n",
       "      <td>24.54</td>\n",
       "      <td>0</td>\n",
       "      <td>29.95</td>\n",
       "    </tr>\n",
       "    <tr>\n",
       "      <th>4</th>\n",
       "      <td>2018-01-01</td>\n",
       "      <td>111824</td>\n",
       "      <td>Depo</td>\n",
       "      <td>6</td>\n",
       "      <td>KASIMPAŞA ŞUBE</td>\n",
       "      <td>18</td>\n",
       "      <td>0</td>\n",
       "      <td>0</td>\n",
       "      <td>0</td>\n",
       "      <td>0</td>\n",
       "      <td>...</td>\n",
       "      <td>0</td>\n",
       "      <td>0</td>\n",
       "      <td>0</td>\n",
       "      <td>0</td>\n",
       "      <td>0</td>\n",
       "      <td>0</td>\n",
       "      <td>14</td>\n",
       "      <td>24.54</td>\n",
       "      <td>0</td>\n",
       "      <td>29.95</td>\n",
       "    </tr>\n",
       "  </tbody>\n",
       "</table>\n",
       "<p>5 rows × 24 columns</p>\n",
       "</div>"
      ],
      "text/plain": [
       "        Date  sto_kod SIPARIS_TIPI  dep_no         dep_adi  GUN_BASI_MEVCUT  \\\n",
       "0 2018-01-01   111824         Depo      60     ALANYA ŞUBE              124   \n",
       "1 2018-01-01   111824         Depo       2  ÇENGELKÖY ŞUBE               47   \n",
       "2 2018-01-01   111824         Depo       3   ŞERİFALİ ŞUBE               49   \n",
       "3 2018-01-01   111824         Depo       4    GÖZTEPE ŞUBE                4   \n",
       "4 2018-01-01   111824         Depo       6  KASIMPAŞA ŞUBE               18   \n",
       "\n",
       "   DEPOLARDAN_SEVKIYAT  MAGAZALARDAN_TRANSFER  FIRMADAN_GELEN  SATIS_IADE  \\\n",
       "0                    0                      0               0           0   \n",
       "1                    0                      0               0           0   \n",
       "2                    0                      0               0           0   \n",
       "3                    0                      0               0           0   \n",
       "4                    0                      0               0           0   \n",
       "\n",
       "   ...  DEPOLARA_IADE  MAGAZALARA_TRANSFER  FIRMAYA_IADE  VIRMAN_CIKISI  \\\n",
       "0  ...              0                    0             0              0   \n",
       "1  ...              0                    0             0              0   \n",
       "2  ...              0                    0             0              0   \n",
       "3  ...              0                    0             0              0   \n",
       "4  ...              0                    0             0              0   \n",
       "\n",
       "   SARF_CIKISI  FIRE_CIKISI  GUN_SONU_MEVCUT  MALIYET  PROMOSYON  SATIS_FIYATI  \n",
       "0            0            0              124    24.54          0         29.95  \n",
       "1            0            0               41    24.54          0         29.95  \n",
       "2            0            0               46    24.54          0         29.95  \n",
       "3            0            0                4    24.54          0         29.95  \n",
       "4            0            0               14    24.54          0         29.95  \n",
       "\n",
       "[5 rows x 24 columns]"
      ]
     },
     "execution_count": 8,
     "metadata": {},
     "output_type": "execute_result"
    }
   ],
   "source": [
    "df = pd.read_excel('dataset.xlsx')\n",
    "df.head()"
   ]
  },
  {
   "cell_type": "code",
   "execution_count": 9,
   "metadata": {},
   "outputs": [
    {
     "name": "stdout",
     "output_type": "stream",
     "text": [
      "<class 'pandas.core.frame.DataFrame'>\n",
      "RangeIndex: 9990 entries, 0 to 9989\n",
      "Data columns (total 24 columns):\n",
      " #   Column                  Non-Null Count  Dtype         \n",
      "---  ------                  --------------  -----         \n",
      " 0   Date                    9990 non-null   datetime64[ns]\n",
      " 1   sto_kod                 9990 non-null   int64         \n",
      " 2   SIPARIS_TIPI            9990 non-null   object        \n",
      " 3   dep_no                  9990 non-null   int64         \n",
      " 4   dep_adi                 9990 non-null   object        \n",
      " 5   GUN_BASI_MEVCUT         9990 non-null   int64         \n",
      " 6   DEPOLARDAN_SEVKIYAT     9990 non-null   int64         \n",
      " 7   MAGAZALARDAN_TRANSFER   9990 non-null   int64         \n",
      " 8   FIRMADAN_GELEN          9990 non-null   int64         \n",
      " 9   SATIS_IADE              9990 non-null   int64         \n",
      " 10  VIRMAN_GIRISI           9990 non-null   int64         \n",
      " 11  HAVUZ_DEPODAN_TRANSFER  9990 non-null   int64         \n",
      " 12  PERAKENDE_SATIS         9990 non-null   int64         \n",
      " 13  TOPTAN_SATIS            9990 non-null   int64         \n",
      " 14  DEPOLARA_IADE           9990 non-null   int64         \n",
      " 15  MAGAZALARA_TRANSFER     9990 non-null   int64         \n",
      " 16  FIRMAYA_IADE            9990 non-null   int64         \n",
      " 17  VIRMAN_CIKISI           9990 non-null   int64         \n",
      " 18  SARF_CIKISI             9990 non-null   int64         \n",
      " 19  FIRE_CIKISI             9990 non-null   int64         \n",
      " 20  GUN_SONU_MEVCUT         9990 non-null   int64         \n",
      " 21  MALIYET                 9990 non-null   float64       \n",
      " 22  PROMOSYON               9990 non-null   int64         \n",
      " 23  SATIS_FIYATI            9990 non-null   float64       \n",
      "dtypes: datetime64[ns](1), float64(2), int64(19), object(2)\n",
      "memory usage: 1.8+ MB\n"
     ]
    }
   ],
   "source": [
    "df.info()"
   ]
  },
  {
   "cell_type": "code",
   "execution_count": 12,
   "metadata": {},
   "outputs": [
    {
     "data": {
      "text/plain": [
       "Date                      0\n",
       "sto_kod                   0\n",
       "SIPARIS_TIPI              0\n",
       "dep_no                    0\n",
       "dep_adi                   0\n",
       "GUN_BASI_MEVCUT           0\n",
       "DEPOLARDAN_SEVKIYAT       0\n",
       "MAGAZALARDAN_TRANSFER     0\n",
       "FIRMADAN_GELEN            0\n",
       "SATIS_IADE                0\n",
       "VIRMAN_GIRISI             0\n",
       "HAVUZ_DEPODAN_TRANSFER    0\n",
       "PERAKENDE_SATIS           0\n",
       "TOPTAN_SATIS              0\n",
       "DEPOLARA_IADE             0\n",
       "MAGAZALARA_TRANSFER       0\n",
       "FIRMAYA_IADE              0\n",
       "VIRMAN_CIKISI             0\n",
       "SARF_CIKISI               0\n",
       "FIRE_CIKISI               0\n",
       "GUN_SONU_MEVCUT           0\n",
       "MALIYET                   0\n",
       "PROMOSYON                 0\n",
       "SATIS_FIYATI              0\n",
       "dtype: int64"
      ]
     },
     "execution_count": 12,
     "metadata": {},
     "output_type": "execute_result"
    }
   ],
   "source": [
    "df.isnull().sum()"
   ]
  },
  {
   "cell_type": "code",
   "execution_count": 18,
   "metadata": {},
   "outputs": [
    {
     "data": {
      "text/plain": [
       "var    9990\n",
       "Name: PROMOSYON, dtype: int64"
      ]
     },
     "execution_count": 18,
     "metadata": {},
     "output_type": "execute_result"
    }
   ],
   "source": [
    "def intToStr(pr):\n",
    "    if(pr=='0'):\n",
    "        return 'İndrimi yok'\n",
    "\n",
    "    else:\n",
    "        return 'var'\n",
    "df['PROMOSYON']=df['PROMOSYON'].apply(intToStr)\n",
    "df['PROMOSYON'].value_counts()\n",
    "df.PROMOSYON.value_counts()"
   ]
  },
  {
   "cell_type": "markdown",
   "metadata": {},
   "source": [
    "# Eksik Veriler\n",
    "We can replace the missing/null values with\n",
    "either of 3 M’s (Mean/ Mode/ Median) depending on the possible values of the\n",
    "given column, or simply drop the\n",
    "missing values."
   ]
  },
  {
   "cell_type": "code",
   "execution_count": 21,
   "metadata": {},
   "outputs": [
    {
     "data": {
      "text/plain": [
       "0    8\n",
       "dtype: int64"
      ]
     },
     "execution_count": 21,
     "metadata": {},
     "output_type": "execute_result"
    }
   ],
   "source": [
    "df['GUN_SONU_MEVCUT'].median()\n",
    "df['GUN_SONU_MEVCUT'].mean()\n",
    "df['GUN_SONU_MEVCUT'].mode()"
   ]
  },
  {
   "cell_type": "code",
   "execution_count": 29,
   "metadata": {},
   "outputs": [
    {
     "data": {
      "text/plain": [
       "0       var\n",
       "1       var\n",
       "2       var\n",
       "3       var\n",
       "4       var\n",
       "       ... \n",
       "9985    var\n",
       "9986    var\n",
       "9987    var\n",
       "9988    var\n",
       "9989    var\n",
       "Name: PROMOSYON, Length: 9990, dtype: object"
      ]
     },
     "execution_count": 29,
     "metadata": {},
     "output_type": "execute_result"
    }
   ],
   "source": [
    "df['PROMOSYON'].fillna('0')"
   ]
  },
  {
   "cell_type": "markdown",
   "metadata": {},
   "source": [
    "# Create Dummy Variables"
   ]
  },
  {
   "cell_type": "code",
   "execution_count": 28,
   "metadata": {},
   "outputs": [
    {
     "data": {
      "text/html": [
       "<div>\n",
       "<style scoped>\n",
       "    .dataframe tbody tr th:only-of-type {\n",
       "        vertical-align: middle;\n",
       "    }\n",
       "\n",
       "    .dataframe tbody tr th {\n",
       "        vertical-align: top;\n",
       "    }\n",
       "\n",
       "    .dataframe thead th {\n",
       "        text-align: right;\n",
       "    }\n",
       "</style>\n",
       "<table border=\"1\" class=\"dataframe\">\n",
       "  <thead>\n",
       "    <tr style=\"text-align: right;\">\n",
       "      <th></th>\n",
       "      <th>Name</th>\n",
       "      <th>Yas</th>\n",
       "    </tr>\n",
       "  </thead>\n",
       "  <tbody>\n",
       "    <tr>\n",
       "      <th>0</th>\n",
       "      <td>0</td>\n",
       "      <td>1</td>\n",
       "    </tr>\n",
       "    <tr>\n",
       "      <th>1</th>\n",
       "      <td>1</td>\n",
       "      <td>0</td>\n",
       "    </tr>\n",
       "  </tbody>\n",
       "</table>\n",
       "</div>"
      ],
      "text/plain": [
       "   Name  Yas\n",
       "0     0    1\n",
       "1     1    0"
      ]
     },
     "execution_count": 28,
     "metadata": {},
     "output_type": "execute_result"
    }
   ],
   "source": [
    "train=pd.get_dummies(['Yas','Name'])\n",
    "train"
   ]
  },
  {
   "cell_type": "markdown",
   "metadata": {},
   "source": [
    "# Data Visualization"
   ]
  },
  {
   "cell_type": "markdown",
   "metadata": {},
   "source": [
    "![title](chart.png)"
   ]
  },
  {
   "cell_type": "code",
   "execution_count": 39,
   "metadata": {},
   "outputs": [
    {
     "data": {
      "text/plain": [
       "Text(0, 0.5, 'y')"
      ]
     },
     "execution_count": 39,
     "metadata": {},
     "output_type": "execute_result"
    },
    {
     "data": {
      "image/png": "[encoded data removed]",
      "text/plain": [
       "<Figure size 432x288 with 1 Axes>"
      ]
     },
     "metadata": {
      "needs_background": "light"
     },
     "output_type": "display_data"
    }
   ],
   "source": [
    "x=np.arange(20)\n",
    "y=np.random.normal(10,1,20)\n",
    "z=np.random.normal(10,2,20)\n",
    "\n",
    "fig=plt.figure()\n",
    "ax= fig.add_subplot()\n",
    "ax.plot(x,y)\n",
    "ax.set_xlabel('x')\n",
    "ax.set_ylabel('y')\n"
   ]
  },
  {
   "cell_type": "code",
   "execution_count": 45,
   "metadata": {},
   "outputs": [
    {
     "data": {
      "text/plain": [
       "<matplotlib.legend.Legend at 0x7fa243d67d30>"
      ]
     },
     "execution_count": 45,
     "metadata": {},
     "output_type": "execute_result"
    },
    {
     "data": {
      "image/png": "[encoded data removed]",
      "text/plain": [
       "<Figure size 432x288 with 1 Axes>"
      ]
     },
     "metadata": {
      "needs_background": "light"
     },
     "output_type": "display_data"
    }
   ],
   "source": [
    "fig=plt.figure()\n",
    "ax= fig.add_subplot(111)\n",
    "ax.plot(x,y,label=' X and Y',marker='o',c='#FF0000')\n",
    "ax.plot(x,z,label=' X and Z')\n",
    "ax.set_ylabel('y',fontsize=30)\n",
    "ax.legend()\n"
   ]
  },
  {
   "cell_type": "code",
   "execution_count": 52,
   "metadata": {},
   "outputs": [
    {
     "data": {
      "text/plain": [
       "Text(0.5, 0.98, 'Visualization')"
      ]
     },
     "execution_count": 52,
     "metadata": {},
     "output_type": "execute_result"
    },
    {
     "data": {
      "image/png": "[encoded data removed]",
      "text/plain": [
       "<Figure size 1440x720 with 3 Axes>"
      ]
     },
     "metadata": {
      "needs_background": "light"
     },
     "output_type": "display_data"
    }
   ],
   "source": [
    "fig2=plt.figure(figsize=(20,10))\n",
    "\n",
    "a= fig2.add_subplot(111)\n",
    "a.scatter(x,y)\n",
    "a.set_title('Scatter')\n",
    "\n",
    "b= fig2.add_subplot(132)\n",
    "b.hist(y)\n",
    "b.set_title('Histogram')\n",
    "\n",
    "c= fig2.add_subplot(133)\n",
    "c.boxplot([x,y])\n",
    "c.set_title('Box plot')\n",
    "\n",
    "fig2.suptitle('Visualization')"
   ]
  }
 ],
 "metadata": {
  "kernelspec": {
   "display_name": "Python 3",
   "language": "python",
   "name": "python3"
  },
  "language_info": {
   "codemirror_mode": {
    "name": "ipython",
    "version": 3
   },
   "file_extension": ".py",
   "mimetype": "text/x-python",
   "name": "python",
   "nbconvert_exporter": "python",
   "pygments_lexer": "ipython3",
   "version": "3.8.5"
  }
 },
 "nbformat": 4,
 "nbformat_minor": 4
}
