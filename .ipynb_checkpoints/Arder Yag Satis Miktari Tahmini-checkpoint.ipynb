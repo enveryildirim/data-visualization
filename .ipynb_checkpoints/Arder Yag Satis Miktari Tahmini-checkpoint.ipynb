{
 "cells": [
  {
   "cell_type": "code",
   "execution_count": 1,
   "metadata": {
    "ExecuteTime": {
     "end_time": "2020-10-24T09:42:40.507353Z",
     "start_time": "2020-10-24T09:42:40.505162Z"
    }
   },
   "outputs": [
    {
     "name": "stdout",
     "output_type": "stream",
     "text": [
      "Collecting holidays\n",
      "  Downloading holidays-0.10.5.2.tar.gz (121 kB)\n",
      "\u001b[K     |████████████████████████████████| 121 kB 806 kB/s eta 0:00:01\n",
      "\u001b[?25hRequirement already satisfied: python-dateutil in /home/enveryildirim/anaconda3/lib/python3.8/site-packages (from holidays) (2.8.1)\n",
      "Requirement already satisfied: six in /home/enveryildirim/anaconda3/lib/python3.8/site-packages (from holidays) (1.15.0)\n",
      "Collecting convertdate>=2.3.0\n",
      "  Downloading convertdate-2.3.1-py3-none-any.whl (45 kB)\n",
      "\u001b[K     |████████████████████████████████| 45 kB 1.5 MB/s eta 0:00:01\n",
      "\u001b[?25hCollecting korean_lunar_calendar\n",
      "  Downloading korean_lunar_calendar-0.2.1-py3-none-any.whl (8.0 kB)\n",
      "Collecting hijri_converter\n",
      "  Downloading hijri_converter-2.1.1-py3-none-any.whl (14 kB)\n",
      "Requirement already satisfied: pytz>=2014.10 in /home/enveryildirim/anaconda3/lib/python3.8/site-packages (from convertdate>=2.3.0->holidays) (2020.1)\n",
      "Collecting pymeeus!=0.3.8,<=1,>=0.3.6\n",
      "  Downloading PyMeeus-0.4.2.tar.gz (5.3 MB)\n",
      "\u001b[K     |████████████████████████████████| 5.3 MB 1.9 MB/s eta 0:00:01\n",
      "\u001b[?25hBuilding wheels for collected packages: holidays, pymeeus\n",
      "  Building wheel for holidays (setup.py) ... \u001b[?25ldone\n",
      "\u001b[?25h  Created wheel for holidays: filename=holidays-0.10.5.2-py3-none-any.whl size=126812 sha256=cca8bc575136cd414110a60c438ac6567c72bd39c925429adeb9fae7fce04b24\n",
      "  Stored in directory: /home/enveryildirim/.cache/pip/wheels/6a/cf/7a/3ffc6ba5930fd024335b4a12b0be8bc3ba5a8fa63ca9a849ef\n",
      "  Building wheel for pymeeus (setup.py) ... \u001b[?25ldone\n",
      "\u001b[?25h  Created wheel for pymeeus: filename=PyMeeus-0.4.2-py3-none-any.whl size=714014 sha256=5474ad73b31dc7c980d7476a71efa2763591d64bcb869abc526a00bd84a425ac\n",
      "  Stored in directory: /home/enveryildirim/.cache/pip/wheels/bd/5e/f4/2827cce8125c868df5812ca35eecfef1527d0ead3563adb02f\n",
      "Successfully built holidays pymeeus\n",
      "Installing collected packages: pymeeus, convertdate, korean-lunar-calendar, hijri-converter, holidays\n",
      "Successfully installed convertdate-2.3.1 hijri-converter-2.1.1 holidays-0.10.5.2 korean-lunar-calendar-0.2.1 pymeeus-0.4.2\n",
      "Note: you may need to restart the kernel to use updated packages.\n"
     ]
    }
   ],
   "source": [
    " pip install holidays"
   ]
  },
  {
   "cell_type": "code",
   "execution_count": 2,
   "metadata": {},
   "outputs": [
    {
     "name": "stdout",
     "output_type": "stream",
     "text": [
      "Requirement already satisfied: hijri-converter in /home/enveryildirim/anaconda3/lib/python3.8/site-packages (2.1.1)\n",
      "Note: you may need to restart the kernel to use updated packages.\n"
     ]
    }
   ],
   "source": [
    " pip install hijri-converter"
   ]
  },
  {
   "cell_type": "code",
   "execution_count": 9,
   "metadata": {
    "ExecuteTime": {
     "end_time": "2020-10-24T09:42:40.540267Z",
     "start_time": "2020-10-24T09:42:40.510009Z"
    }
   },
   "outputs": [
    {
     "data": {
      "text/plain": [
       "True"
      ]
     },
     "execution_count": 9,
     "metadata": {},
     "output_type": "execute_result"
    }
   ],
   "source": [
    "from datetime import date,timedelta\n",
    "from hijri_converter import convert\n",
    "import holidays\n",
    "date(2014, 1, 1) in holidays.US()"
   ]
  },
  {
   "cell_type": "code",
   "execution_count": 17,
   "metadata": {
    "ExecuteTime": {
     "end_time": "2020-10-24T09:42:40.545223Z",
     "start_time": "2020-10-24T09:42:40.541625Z"
    }
   },
   "outputs": [
    {
     "data": {
      "text/plain": [
       "False"
      ]
     },
     "execution_count": 17,
     "metadata": {},
     "output_type": "execute_result"
    }
   ],
   "source": [
    "date(2020, 10, 4) in holidays.TR()"
   ]
  },
  {
   "cell_type": "code",
   "execution_count": 18,
   "metadata": {
    "ExecuteTime": {
     "end_time": "2020-10-24T09:42:40.550535Z",
     "start_time": "2020-10-24T09:42:40.546869Z"
    }
   },
   "outputs": [
    {
     "data": {
      "text/plain": [
       "False"
      ]
     },
     "execution_count": 18,
     "metadata": {},
     "output_type": "execute_result"
    }
   ],
   "source": [
    "date(2010, 7, 15) in holidays.TR()"
   ]
  },
  {
   "cell_type": "code",
   "execution_count": 19,
   "metadata": {
    "ExecuteTime": {
     "end_time": "2020-10-24T09:42:40.555337Z",
     "start_time": "2020-10-24T09:42:40.552018Z"
    }
   },
   "outputs": [
    {
     "data": {
      "text/plain": [
       "0"
      ]
     },
     "execution_count": 19,
     "metadata": {},
     "output_type": "execute_result"
    }
   ],
   "source": [
    "date(2020, 10, 5).weekday()"
   ]
  },
  {
   "cell_type": "code",
   "execution_count": 20,
   "metadata": {
    "ExecuteTime": {
     "end_time": "2020-10-24T09:42:40.558606Z",
     "start_time": "2020-10-24T09:42:40.556626Z"
    }
   },
   "outputs": [],
   "source": [
    "# zilhicce nin 10'u Kurban bayramı, 1 gün öncesi arefe günü (9 zilhicce)\n",
    "# 1 şevval Ramazan bayramı ilk günü, 1 gün öncesi arefe günü\n",
    "# 10 muharrem aşure günü\n",
    "# Ramazan Şerif ayında mıyız?"
   ]
  },
  {
   "cell_type": "code",
   "execution_count": 21,
   "metadata": {
    "ExecuteTime": {
     "end_time": "2020-10-24T09:42:40.561957Z",
     "start_time": "2020-10-24T09:42:40.559728Z"
    }
   },
   "outputs": [],
   "source": [
    "h = convert.Gregorian(2020, 7, 30).to_hijri()"
   ]
  },
  {
   "cell_type": "code",
   "execution_count": 22,
   "metadata": {
    "ExecuteTime": {
     "end_time": "2020-10-24T09:42:40.566609Z",
     "start_time": "2020-10-24T09:42:40.563390Z"
    }
   },
   "outputs": [
    {
     "data": {
      "text/plain": [
       "(1441, 12, 9, Hijri(1441, 12, 9))"
      ]
     },
     "execution_count": 22,
     "metadata": {},
     "output_type": "execute_result"
    }
   ],
   "source": [
    "h.year, h.month, h.day, h"
   ]
  },
  {
   "cell_type": "code",
   "execution_count": 23,
   "metadata": {
    "ExecuteTime": {
     "end_time": "2020-10-24T09:42:40.571251Z",
     "start_time": "2020-10-24T09:42:40.569020Z"
    }
   },
   "outputs": [],
   "source": [
    "# Girilen tarih bilgisinin Resmi tatil mi bilgisini döner. Türkiye'deki verilere göre dönüş yapar.\n",
    "def is_official_holiday(date):\n",
    "    return date in holidays.TR()\n",
    "    "
   ]
  },
  {
   "cell_type": "code",
   "execution_count": 24,
   "metadata": {
    "ExecuteTime": {
     "end_time": "2020-10-24T09:42:40.575338Z",
     "start_time": "2020-10-24T09:42:40.572883Z"
    }
   },
   "outputs": [],
   "source": [
    "# Girilen tarih bilgisinin Ramazan ayı içerisinde olup olmadığı bilgisini döner.\n",
    "def is_ramadan(year, month, day):\n",
    "    h = convert.Gregorian(year, month, day).to_hijri()\n",
    "    return h.month == 9"
   ]
  },
  {
   "cell_type": "code",
   "execution_count": 25,
   "metadata": {
    "ExecuteTime": {
     "end_time": "2020-10-24T09:42:40.579658Z",
     "start_time": "2020-10-24T09:42:40.576847Z"
    }
   },
   "outputs": [],
   "source": [
    "# Girilen tarih bilgisinin Ramazan Bayramı olup olmadığı bilgisini döner.\n",
    "def is_ramadan_feast(year, month, day):\n",
    "    h = convert.Gregorian(year, month, day).to_hijri()\n",
    "    return h.month == 10 and h.day in {1,2,3}"
   ]
  },
  {
   "cell_type": "code",
   "execution_count": 26,
   "metadata": {
    "ExecuteTime": {
     "end_time": "2020-10-24T09:42:40.583935Z",
     "start_time": "2020-10-24T09:42:40.581048Z"
    }
   },
   "outputs": [],
   "source": [
    "# Girilen tarih bilgisinin Kurban Bayramı olup olmadığı bilgisini döner.\n",
    "def is_kurban_feast(year, month, day):\n",
    "    h = convert.Gregorian(year, month, day).to_hijri()\n",
    "    return h.month == 12 and h.day in {10,11,12,13}"
   ]
  },
  {
   "cell_type": "code",
   "execution_count": 28,
   "metadata": {
    "ExecuteTime": {
     "end_time": "2020-10-24T09:42:40.589992Z",
     "start_time": "2020-10-24T09:42:40.585171Z"
    }
   },
   "outputs": [],
   "source": [
    "# Girilen tarih bilgisinin Arefe günü olup olmadığı bilgisini döner.\n",
    "def is_arefe_day(year, month, day):\n",
    "    day = date(year, month, day)\n",
    "    day_after = day + timedelta(days=1)\n",
    "    h = convert.Gregorian(day_after.year, day_after.month, day_after.day).to_hijri()\n",
    "    if h.month == 12 and h.day == 10:\n",
    "        return True\n",
    "    elif h.month == 10 and h.day == 1:\n",
    "        return True\n",
    "    else:\n",
    "        return False"
   ]
  },
  {
   "cell_type": "code",
   "execution_count": 29,
   "metadata": {},
   "outputs": [],
   "source": [
    "# Girilen tarih bilgisinin Ramazan Bayramı öncesi Arefe günü olup olmadığı bilgisini döner.\n",
    "def is_ramadan_arefe_day(year, month, day):\n",
    "    day = date(year, month, day)\n",
    "    day_after = day + timedelta(days=1)\n",
    "    h = convert.Gregorian(day_after.year, day_after.month, day_after.day).to_hijri()\n",
    "    if h.month == 10 and h.day == 1:\n",
    "        return True\n",
    "    else:\n",
    "        return False"
   ]
  },
  {
   "cell_type": "code",
   "execution_count": 30,
   "metadata": {},
   "outputs": [],
   "source": [
    "# Girilen tarih bilgisinin Kurban Bayramı öncesi Arefe günü olup olmadığı bilgisini döner.\n",
    "def is_kurban_arefe_day(year, month, day):\n",
    "    day = date(year, month, day)\n",
    "    day_after = day + timedelta(days=1)\n",
    "    h = convert.Gregorian(day_after.year, day_after.month, day_after.day).to_hijri()\n",
    "    if h.month == 12 and h.day == 10:\n",
    "        return True\n",
    "    else:\n",
    "        return False"
   ]
  },
  {
   "cell_type": "code",
   "execution_count": 31,
   "metadata": {
    "ExecuteTime": {
     "end_time": "2020-10-24T09:42:40.594854Z",
     "start_time": "2020-10-24T09:42:40.592040Z"
    }
   },
   "outputs": [],
   "source": [
    "def is_asura_day(year, month, day):\n",
    "    h = convert.Gregorian(year, month, day).to_hijri()\n",
    "    return h.month == 1 and h.day == 10"
   ]
  },
  {
   "cell_type": "code",
   "execution_count": 32,
   "metadata": {
    "ExecuteTime": {
     "end_time": "2020-10-24T09:42:41.000583Z",
     "start_time": "2020-10-24T09:42:40.596144Z"
    }
   },
   "outputs": [],
   "source": [
    "import pandas as pd\n",
    "import numpy as np\n",
    "import matplotlib.pyplot as plt\n",
    "pd.set_option(\"display.max_columns\",100)\n",
    "%matplotlib inline"
   ]
  },
  {
   "cell_type": "code",
   "execution_count": 33,
   "metadata": {
    "ExecuteTime": {
     "end_time": "2020-10-24T09:42:41.005083Z",
     "start_time": "2020-10-24T09:42:41.001952Z"
    }
   },
   "outputs": [],
   "source": [
    "import warnings\n",
    "warnings.filterwarnings('ignore')"
   ]
  },
  {
   "cell_type": "code",
   "execution_count": 34,
   "metadata": {
    "ExecuteTime": {
     "end_time": "2020-10-24T09:42:43.104692Z",
     "start_time": "2020-10-24T09:42:41.007020Z"
    }
   },
   "outputs": [],
   "source": [
    "#import Data\n",
    "df = pd.read_excel('dataset.xlsx')"
   ]
  },
  {
   "cell_type": "code",
   "execution_count": 35,
   "metadata": {
    "ExecuteTime": {
     "end_time": "2020-10-24T09:42:43.122031Z",
     "start_time": "2020-10-24T09:42:43.106051Z"
    },
    "scrolled": true
   },
   "outputs": [
    {
     "data": {
      "text/html": [
       "<div>\n",
       "<style scoped>\n",
       "    .dataframe tbody tr th:only-of-type {\n",
       "        vertical-align: middle;\n",
       "    }\n",
       "\n",
       "    .dataframe tbody tr th {\n",
       "        vertical-align: top;\n",
       "    }\n",
       "\n",
       "    .dataframe thead th {\n",
       "        text-align: right;\n",
       "    }\n",
       "</style>\n",
       "<table border=\"1\" class=\"dataframe\">\n",
       "  <thead>\n",
       "    <tr style=\"text-align: right;\">\n",
       "      <th></th>\n",
       "      <th>Date</th>\n",
       "      <th>sto_kod</th>\n",
       "      <th>SIPARIS_TIPI</th>\n",
       "      <th>dep_no</th>\n",
       "      <th>dep_adi</th>\n",
       "      <th>GUN_BASI_MEVCUT</th>\n",
       "      <th>DEPOLARDAN_SEVKIYAT</th>\n",
       "      <th>MAGAZALARDAN_TRANSFER</th>\n",
       "      <th>FIRMADAN_GELEN</th>\n",
       "      <th>SATIS_IADE</th>\n",
       "      <th>VIRMAN_GIRISI</th>\n",
       "      <th>HAVUZ_DEPODAN_TRANSFER</th>\n",
       "      <th>PERAKENDE_SATIS</th>\n",
       "      <th>TOPTAN_SATIS</th>\n",
       "      <th>DEPOLARA_IADE</th>\n",
       "      <th>MAGAZALARA_TRANSFER</th>\n",
       "      <th>FIRMAYA_IADE</th>\n",
       "      <th>VIRMAN_CIKISI</th>\n",
       "      <th>SARF_CIKISI</th>\n",
       "      <th>FIRE_CIKISI</th>\n",
       "      <th>GUN_SONU_MEVCUT</th>\n",
       "      <th>MALIYET</th>\n",
       "      <th>Unnamed: 22</th>\n",
       "      <th>PROMOSYON</th>\n",
       "      <th>SATIS_FIYATI</th>\n",
       "    </tr>\n",
       "  </thead>\n",
       "  <tbody>\n",
       "    <tr>\n",
       "      <td>0</td>\n",
       "      <td>2018-01-01</td>\n",
       "      <td>111824</td>\n",
       "      <td>Depo</td>\n",
       "      <td>60</td>\n",
       "      <td>ALANYA ŞUBE</td>\n",
       "      <td>124</td>\n",
       "      <td>0</td>\n",
       "      <td>0</td>\n",
       "      <td>0</td>\n",
       "      <td>0</td>\n",
       "      <td>0</td>\n",
       "      <td>0</td>\n",
       "      <td>0</td>\n",
       "      <td>0</td>\n",
       "      <td>0</td>\n",
       "      <td>0</td>\n",
       "      <td>0</td>\n",
       "      <td>0</td>\n",
       "      <td>0</td>\n",
       "      <td>0</td>\n",
       "      <td>124</td>\n",
       "      <td>24.54</td>\n",
       "      <td>NaN</td>\n",
       "      <td>0</td>\n",
       "      <td>29.95</td>\n",
       "    </tr>\n",
       "    <tr>\n",
       "      <td>1</td>\n",
       "      <td>2018-01-01</td>\n",
       "      <td>111824</td>\n",
       "      <td>Depo</td>\n",
       "      <td>2</td>\n",
       "      <td>ÇENGELKÖY ŞUBE</td>\n",
       "      <td>47</td>\n",
       "      <td>0</td>\n",
       "      <td>0</td>\n",
       "      <td>0</td>\n",
       "      <td>0</td>\n",
       "      <td>0</td>\n",
       "      <td>0</td>\n",
       "      <td>-6</td>\n",
       "      <td>0</td>\n",
       "      <td>0</td>\n",
       "      <td>0</td>\n",
       "      <td>0</td>\n",
       "      <td>0</td>\n",
       "      <td>0</td>\n",
       "      <td>0</td>\n",
       "      <td>41</td>\n",
       "      <td>24.54</td>\n",
       "      <td>NaN</td>\n",
       "      <td>0</td>\n",
       "      <td>29.95</td>\n",
       "    </tr>\n",
       "    <tr>\n",
       "      <td>2</td>\n",
       "      <td>2018-01-01</td>\n",
       "      <td>111824</td>\n",
       "      <td>Depo</td>\n",
       "      <td>3</td>\n",
       "      <td>ŞERİFALİ ŞUBE</td>\n",
       "      <td>49</td>\n",
       "      <td>0</td>\n",
       "      <td>0</td>\n",
       "      <td>0</td>\n",
       "      <td>0</td>\n",
       "      <td>0</td>\n",
       "      <td>0</td>\n",
       "      <td>-3</td>\n",
       "      <td>0</td>\n",
       "      <td>0</td>\n",
       "      <td>0</td>\n",
       "      <td>0</td>\n",
       "      <td>0</td>\n",
       "      <td>0</td>\n",
       "      <td>0</td>\n",
       "      <td>46</td>\n",
       "      <td>24.54</td>\n",
       "      <td>NaN</td>\n",
       "      <td>0</td>\n",
       "      <td>29.95</td>\n",
       "    </tr>\n",
       "    <tr>\n",
       "      <td>3</td>\n",
       "      <td>2018-01-01</td>\n",
       "      <td>111824</td>\n",
       "      <td>Depo</td>\n",
       "      <td>4</td>\n",
       "      <td>GÖZTEPE ŞUBE</td>\n",
       "      <td>4</td>\n",
       "      <td>0</td>\n",
       "      <td>0</td>\n",
       "      <td>0</td>\n",
       "      <td>0</td>\n",
       "      <td>0</td>\n",
       "      <td>0</td>\n",
       "      <td>0</td>\n",
       "      <td>0</td>\n",
       "      <td>0</td>\n",
       "      <td>0</td>\n",
       "      <td>0</td>\n",
       "      <td>0</td>\n",
       "      <td>0</td>\n",
       "      <td>0</td>\n",
       "      <td>4</td>\n",
       "      <td>24.54</td>\n",
       "      <td>NaN</td>\n",
       "      <td>0</td>\n",
       "      <td>29.95</td>\n",
       "    </tr>\n",
       "    <tr>\n",
       "      <td>4</td>\n",
       "      <td>2018-01-01</td>\n",
       "      <td>111824</td>\n",
       "      <td>Depo</td>\n",
       "      <td>6</td>\n",
       "      <td>KASIMPAŞA ŞUBE</td>\n",
       "      <td>18</td>\n",
       "      <td>0</td>\n",
       "      <td>0</td>\n",
       "      <td>0</td>\n",
       "      <td>0</td>\n",
       "      <td>0</td>\n",
       "      <td>0</td>\n",
       "      <td>-4</td>\n",
       "      <td>0</td>\n",
       "      <td>0</td>\n",
       "      <td>0</td>\n",
       "      <td>0</td>\n",
       "      <td>0</td>\n",
       "      <td>0</td>\n",
       "      <td>0</td>\n",
       "      <td>14</td>\n",
       "      <td>24.54</td>\n",
       "      <td>NaN</td>\n",
       "      <td>0</td>\n",
       "      <td>29.95</td>\n",
       "    </tr>\n",
       "  </tbody>\n",
       "</table>\n",
       "</div>"
      ],
      "text/plain": [
       "        Date  sto_kod SIPARIS_TIPI  dep_no         dep_adi  GUN_BASI_MEVCUT  \\\n",
       "0 2018-01-01   111824         Depo      60     ALANYA ŞUBE              124   \n",
       "1 2018-01-01   111824         Depo       2  ÇENGELKÖY ŞUBE               47   \n",
       "2 2018-01-01   111824         Depo       3   ŞERİFALİ ŞUBE               49   \n",
       "3 2018-01-01   111824         Depo       4    GÖZTEPE ŞUBE                4   \n",
       "4 2018-01-01   111824         Depo       6  KASIMPAŞA ŞUBE               18   \n",
       "\n",
       "   DEPOLARDAN_SEVKIYAT  MAGAZALARDAN_TRANSFER  FIRMADAN_GELEN  SATIS_IADE  \\\n",
       "0                    0                      0               0           0   \n",
       "1                    0                      0               0           0   \n",
       "2                    0                      0               0           0   \n",
       "3                    0                      0               0           0   \n",
       "4                    0                      0               0           0   \n",
       "\n",
       "   VIRMAN_GIRISI  HAVUZ_DEPODAN_TRANSFER  PERAKENDE_SATIS  TOPTAN_SATIS  \\\n",
       "0              0                       0                0             0   \n",
       "1              0                       0               -6             0   \n",
       "2              0                       0               -3             0   \n",
       "3              0                       0                0             0   \n",
       "4              0                       0               -4             0   \n",
       "\n",
       "   DEPOLARA_IADE  MAGAZALARA_TRANSFER  FIRMAYA_IADE  VIRMAN_CIKISI  \\\n",
       "0              0                    0             0              0   \n",
       "1              0                    0             0              0   \n",
       "2              0                    0             0              0   \n",
       "3              0                    0             0              0   \n",
       "4              0                    0             0              0   \n",
       "\n",
       "   SARF_CIKISI  FIRE_CIKISI  GUN_SONU_MEVCUT  MALIYET  Unnamed: 22  PROMOSYON  \\\n",
       "0            0            0              124    24.54          NaN          0   \n",
       "1            0            0               41    24.54          NaN          0   \n",
       "2            0            0               46    24.54          NaN          0   \n",
       "3            0            0                4    24.54          NaN          0   \n",
       "4            0            0               14    24.54          NaN          0   \n",
       "\n",
       "   SATIS_FIYATI  \n",
       "0         29.95  \n",
       "1         29.95  \n",
       "2         29.95  \n",
       "3         29.95  \n",
       "4         29.95  "
      ]
     },
     "execution_count": 35,
     "metadata": {},
     "output_type": "execute_result"
    }
   ],
   "source": [
    "df.head()"
   ]
  },
  {
   "cell_type": "code",
   "execution_count": 19,
   "metadata": {
    "ExecuteTime": {
     "end_time": "2020-10-24T09:42:43.128679Z",
     "start_time": "2020-10-24T09:42:43.123426Z"
    }
   },
   "outputs": [],
   "source": [
    "df = df[df.dep_adi == \"KASIMPAŞA ŞUBE\"]"
   ]
  },
  {
   "cell_type": "code",
   "execution_count": 20,
   "metadata": {
    "ExecuteTime": {
     "end_time": "2020-10-24T09:42:43.136914Z",
     "start_time": "2020-10-24T09:42:43.130553Z"
    }
   },
   "outputs": [],
   "source": [
    "df = df[( (df.GUN_SONU_MEVCUT > 0) & ( df.GUN_BASI_MEVCUT > 0))] \n",
    "# gün sonu mevcut sıfır ise, satılan ürünün stoğu tükenmesinden kaynaklı gün içerisindeki satış adedi,\n",
    "# gerçekte satabileceği değeri yansıtmayacaktır, modelimiz için doğru bir kaynak olmayacaktır"
   ]
  },
  {
   "cell_type": "code",
   "execution_count": 21,
   "metadata": {
    "ExecuteTime": {
     "end_time": "2020-10-24T09:42:43.259674Z",
     "start_time": "2020-10-24T09:42:43.138542Z"
    }
   },
   "outputs": [],
   "source": [
    "df['is_official_holiday'] = df.Date.apply(lambda x: is_official_holiday(x))"
   ]
  },
  {
   "cell_type": "code",
   "execution_count": 22,
   "metadata": {
    "ExecuteTime": {
     "end_time": "2020-10-24T09:42:43.270482Z",
     "start_time": "2020-10-24T09:42:43.260949Z"
    }
   },
   "outputs": [],
   "source": [
    "df['is_ramadan'] = df.Date.apply(lambda x: is_ramadan(x.year, x.month, x.day))"
   ]
  },
  {
   "cell_type": "code",
   "execution_count": 23,
   "metadata": {
    "ExecuteTime": {
     "end_time": "2020-10-24T09:42:43.281272Z",
     "start_time": "2020-10-24T09:42:43.272027Z"
    }
   },
   "outputs": [],
   "source": [
    "df['is_ramadan_feast'] = df.Date.apply(lambda x: is_ramadan_feast(x.year, x.month, x.day))"
   ]
  },
  {
   "cell_type": "code",
   "execution_count": 36,
   "metadata": {
    "ExecuteTime": {
     "end_time": "2020-10-24T09:42:43.293905Z",
     "start_time": "2020-10-24T09:42:43.284908Z"
    }
   },
   "outputs": [],
   "source": [
    "df['is_kurban_feast'] = df.Date.apply(lambda x: is_kurban_feast(x.year, x.month, x.day))"
   ]
  },
  {
   "cell_type": "code",
   "execution_count": 37,
   "metadata": {
    "ExecuteTime": {
     "end_time": "2020-10-24T09:42:43.309917Z",
     "start_time": "2020-10-24T09:42:43.296302Z"
    }
   },
   "outputs": [],
   "source": [
    "# df['is_arefe_day'] = df.Date.apply(lambda x: is_arefe_day(x.year, x.month, x.day))"
   ]
  },
  {
   "cell_type": "code",
   "execution_count": 38,
   "metadata": {},
   "outputs": [],
   "source": [
    "df['is_ramadan_arefe_day'] = df.Date.apply(lambda x: is_ramadan_arefe_day(x.year, x.month, x.day))"
   ]
  },
  {
   "cell_type": "code",
   "execution_count": 39,
   "metadata": {},
   "outputs": [],
   "source": [
    "df['is_kurban_arefe_day'] = df.Date.apply(lambda x: is_kurban_arefe_day(x.year, x.month, x.day))"
   ]
  },
  {
   "cell_type": "code",
   "execution_count": 40,
   "metadata": {
    "ExecuteTime": {
     "end_time": "2020-10-24T09:42:43.320525Z",
     "start_time": "2020-10-24T09:42:43.311349Z"
    }
   },
   "outputs": [],
   "source": [
    "df['is_asura_day'] = df.Date.apply(lambda x: is_asura_day(x.year, x.month, x.day))"
   ]
  },
  {
   "cell_type": "code",
   "execution_count": 41,
   "metadata": {
    "ExecuteTime": {
     "end_time": "2020-10-24T09:42:43.328730Z",
     "start_time": "2020-10-24T09:42:43.321803Z"
    }
   },
   "outputs": [],
   "source": [
    "df['kar_marji'] = (df.SATIS_FIYATI - df.MALIYET) / df.SATIS_FIYATI * 100"
   ]
  },
  {
   "cell_type": "code",
   "execution_count": 42,
   "metadata": {
    "ExecuteTime": {
     "end_time": "2020-10-24T09:42:43.352827Z",
     "start_time": "2020-10-24T09:42:43.329939Z"
    }
   },
   "outputs": [
    {
     "data": {
      "text/html": [
       "<div>\n",
       "<style scoped>\n",
       "    .dataframe tbody tr th:only-of-type {\n",
       "        vertical-align: middle;\n",
       "    }\n",
       "\n",
       "    .dataframe tbody tr th {\n",
       "        vertical-align: top;\n",
       "    }\n",
       "\n",
       "    .dataframe thead th {\n",
       "        text-align: right;\n",
       "    }\n",
       "</style>\n",
       "<table border=\"1\" class=\"dataframe\">\n",
       "  <thead>\n",
       "    <tr style=\"text-align: right;\">\n",
       "      <th></th>\n",
       "      <th>Date</th>\n",
       "      <th>sto_kod</th>\n",
       "      <th>SIPARIS_TIPI</th>\n",
       "      <th>dep_no</th>\n",
       "      <th>dep_adi</th>\n",
       "      <th>GUN_BASI_MEVCUT</th>\n",
       "      <th>DEPOLARDAN_SEVKIYAT</th>\n",
       "      <th>MAGAZALARDAN_TRANSFER</th>\n",
       "      <th>FIRMADAN_GELEN</th>\n",
       "      <th>SATIS_IADE</th>\n",
       "      <th>VIRMAN_GIRISI</th>\n",
       "      <th>HAVUZ_DEPODAN_TRANSFER</th>\n",
       "      <th>PERAKENDE_SATIS</th>\n",
       "      <th>TOPTAN_SATIS</th>\n",
       "      <th>DEPOLARA_IADE</th>\n",
       "      <th>MAGAZALARA_TRANSFER</th>\n",
       "      <th>FIRMAYA_IADE</th>\n",
       "      <th>VIRMAN_CIKISI</th>\n",
       "      <th>SARF_CIKISI</th>\n",
       "      <th>FIRE_CIKISI</th>\n",
       "      <th>GUN_SONU_MEVCUT</th>\n",
       "      <th>MALIYET</th>\n",
       "      <th>Unnamed: 22</th>\n",
       "      <th>PROMOSYON</th>\n",
       "      <th>SATIS_FIYATI</th>\n",
       "      <th>is_kurban_feast</th>\n",
       "      <th>is_ramadan_arefe_day</th>\n",
       "      <th>is_kurban_arefe_day</th>\n",
       "      <th>is_asura_day</th>\n",
       "      <th>kar_marji</th>\n",
       "    </tr>\n",
       "  </thead>\n",
       "  <tbody>\n",
       "    <tr>\n",
       "      <td>0</td>\n",
       "      <td>2018-01-01</td>\n",
       "      <td>111824</td>\n",
       "      <td>Depo</td>\n",
       "      <td>60</td>\n",
       "      <td>ALANYA ŞUBE</td>\n",
       "      <td>124</td>\n",
       "      <td>0</td>\n",
       "      <td>0</td>\n",
       "      <td>0</td>\n",
       "      <td>0</td>\n",
       "      <td>0</td>\n",
       "      <td>0</td>\n",
       "      <td>0</td>\n",
       "      <td>0</td>\n",
       "      <td>0</td>\n",
       "      <td>0</td>\n",
       "      <td>0</td>\n",
       "      <td>0</td>\n",
       "      <td>0</td>\n",
       "      <td>0</td>\n",
       "      <td>124</td>\n",
       "      <td>24.54</td>\n",
       "      <td>NaN</td>\n",
       "      <td>0</td>\n",
       "      <td>29.95</td>\n",
       "      <td>False</td>\n",
       "      <td>False</td>\n",
       "      <td>False</td>\n",
       "      <td>False</td>\n",
       "      <td>18.063439</td>\n",
       "    </tr>\n",
       "    <tr>\n",
       "      <td>1</td>\n",
       "      <td>2018-01-01</td>\n",
       "      <td>111824</td>\n",
       "      <td>Depo</td>\n",
       "      <td>2</td>\n",
       "      <td>ÇENGELKÖY ŞUBE</td>\n",
       "      <td>47</td>\n",
       "      <td>0</td>\n",
       "      <td>0</td>\n",
       "      <td>0</td>\n",
       "      <td>0</td>\n",
       "      <td>0</td>\n",
       "      <td>0</td>\n",
       "      <td>-6</td>\n",
       "      <td>0</td>\n",
       "      <td>0</td>\n",
       "      <td>0</td>\n",
       "      <td>0</td>\n",
       "      <td>0</td>\n",
       "      <td>0</td>\n",
       "      <td>0</td>\n",
       "      <td>41</td>\n",
       "      <td>24.54</td>\n",
       "      <td>NaN</td>\n",
       "      <td>0</td>\n",
       "      <td>29.95</td>\n",
       "      <td>False</td>\n",
       "      <td>False</td>\n",
       "      <td>False</td>\n",
       "      <td>False</td>\n",
       "      <td>18.063439</td>\n",
       "    </tr>\n",
       "    <tr>\n",
       "      <td>2</td>\n",
       "      <td>2018-01-01</td>\n",
       "      <td>111824</td>\n",
       "      <td>Depo</td>\n",
       "      <td>3</td>\n",
       "      <td>ŞERİFALİ ŞUBE</td>\n",
       "      <td>49</td>\n",
       "      <td>0</td>\n",
       "      <td>0</td>\n",
       "      <td>0</td>\n",
       "      <td>0</td>\n",
       "      <td>0</td>\n",
       "      <td>0</td>\n",
       "      <td>-3</td>\n",
       "      <td>0</td>\n",
       "      <td>0</td>\n",
       "      <td>0</td>\n",
       "      <td>0</td>\n",
       "      <td>0</td>\n",
       "      <td>0</td>\n",
       "      <td>0</td>\n",
       "      <td>46</td>\n",
       "      <td>24.54</td>\n",
       "      <td>NaN</td>\n",
       "      <td>0</td>\n",
       "      <td>29.95</td>\n",
       "      <td>False</td>\n",
       "      <td>False</td>\n",
       "      <td>False</td>\n",
       "      <td>False</td>\n",
       "      <td>18.063439</td>\n",
       "    </tr>\n",
       "    <tr>\n",
       "      <td>3</td>\n",
       "      <td>2018-01-01</td>\n",
       "      <td>111824</td>\n",
       "      <td>Depo</td>\n",
       "      <td>4</td>\n",
       "      <td>GÖZTEPE ŞUBE</td>\n",
       "      <td>4</td>\n",
       "      <td>0</td>\n",
       "      <td>0</td>\n",
       "      <td>0</td>\n",
       "      <td>0</td>\n",
       "      <td>0</td>\n",
       "      <td>0</td>\n",
       "      <td>0</td>\n",
       "      <td>0</td>\n",
       "      <td>0</td>\n",
       "      <td>0</td>\n",
       "      <td>0</td>\n",
       "      <td>0</td>\n",
       "      <td>0</td>\n",
       "      <td>0</td>\n",
       "      <td>4</td>\n",
       "      <td>24.54</td>\n",
       "      <td>NaN</td>\n",
       "      <td>0</td>\n",
       "      <td>29.95</td>\n",
       "      <td>False</td>\n",
       "      <td>False</td>\n",
       "      <td>False</td>\n",
       "      <td>False</td>\n",
       "      <td>18.063439</td>\n",
       "    </tr>\n",
       "    <tr>\n",
       "      <td>4</td>\n",
       "      <td>2018-01-01</td>\n",
       "      <td>111824</td>\n",
       "      <td>Depo</td>\n",
       "      <td>6</td>\n",
       "      <td>KASIMPAŞA ŞUBE</td>\n",
       "      <td>18</td>\n",
       "      <td>0</td>\n",
       "      <td>0</td>\n",
       "      <td>0</td>\n",
       "      <td>0</td>\n",
       "      <td>0</td>\n",
       "      <td>0</td>\n",
       "      <td>-4</td>\n",
       "      <td>0</td>\n",
       "      <td>0</td>\n",
       "      <td>0</td>\n",
       "      <td>0</td>\n",
       "      <td>0</td>\n",
       "      <td>0</td>\n",
       "      <td>0</td>\n",
       "      <td>14</td>\n",
       "      <td>24.54</td>\n",
       "      <td>NaN</td>\n",
       "      <td>0</td>\n",
       "      <td>29.95</td>\n",
       "      <td>False</td>\n",
       "      <td>False</td>\n",
       "      <td>False</td>\n",
       "      <td>False</td>\n",
       "      <td>18.063439</td>\n",
       "    </tr>\n",
       "  </tbody>\n",
       "</table>\n",
       "</div>"
      ],
      "text/plain": [
       "        Date  sto_kod SIPARIS_TIPI  dep_no         dep_adi  GUN_BASI_MEVCUT  \\\n",
       "0 2018-01-01   111824         Depo      60     ALANYA ŞUBE              124   \n",
       "1 2018-01-01   111824         Depo       2  ÇENGELKÖY ŞUBE               47   \n",
       "2 2018-01-01   111824         Depo       3   ŞERİFALİ ŞUBE               49   \n",
       "3 2018-01-01   111824         Depo       4    GÖZTEPE ŞUBE                4   \n",
       "4 2018-01-01   111824         Depo       6  KASIMPAŞA ŞUBE               18   \n",
       "\n",
       "   DEPOLARDAN_SEVKIYAT  MAGAZALARDAN_TRANSFER  FIRMADAN_GELEN  SATIS_IADE  \\\n",
       "0                    0                      0               0           0   \n",
       "1                    0                      0               0           0   \n",
       "2                    0                      0               0           0   \n",
       "3                    0                      0               0           0   \n",
       "4                    0                      0               0           0   \n",
       "\n",
       "   VIRMAN_GIRISI  HAVUZ_DEPODAN_TRANSFER  PERAKENDE_SATIS  TOPTAN_SATIS  \\\n",
       "0              0                       0                0             0   \n",
       "1              0                       0               -6             0   \n",
       "2              0                       0               -3             0   \n",
       "3              0                       0                0             0   \n",
       "4              0                       0               -4             0   \n",
       "\n",
       "   DEPOLARA_IADE  MAGAZALARA_TRANSFER  FIRMAYA_IADE  VIRMAN_CIKISI  \\\n",
       "0              0                    0             0              0   \n",
       "1              0                    0             0              0   \n",
       "2              0                    0             0              0   \n",
       "3              0                    0             0              0   \n",
       "4              0                    0             0              0   \n",
       "\n",
       "   SARF_CIKISI  FIRE_CIKISI  GUN_SONU_MEVCUT  MALIYET  Unnamed: 22  PROMOSYON  \\\n",
       "0            0            0              124    24.54          NaN          0   \n",
       "1            0            0               41    24.54          NaN          0   \n",
       "2            0            0               46    24.54          NaN          0   \n",
       "3            0            0                4    24.54          NaN          0   \n",
       "4            0            0               14    24.54          NaN          0   \n",
       "\n",
       "   SATIS_FIYATI  is_kurban_feast  is_ramadan_arefe_day  is_kurban_arefe_day  \\\n",
       "0         29.95            False                 False                False   \n",
       "1         29.95            False                 False                False   \n",
       "2         29.95            False                 False                False   \n",
       "3         29.95            False                 False                False   \n",
       "4         29.95            False                 False                False   \n",
       "\n",
       "   is_asura_day  kar_marji  \n",
       "0         False  18.063439  \n",
       "1         False  18.063439  \n",
       "2         False  18.063439  \n",
       "3         False  18.063439  \n",
       "4         False  18.063439  "
      ]
     },
     "execution_count": 42,
     "metadata": {},
     "output_type": "execute_result"
    }
   ],
   "source": [
    "df.head()"
   ]
  },
  {
   "cell_type": "code",
   "execution_count": 29,
   "metadata": {
    "ExecuteTime": {
     "end_time": "2020-10-24T09:42:45.412902Z",
     "start_time": "2020-10-24T09:42:43.353888Z"
    }
   },
   "outputs": [
    {
     "data": {
      "text/plain": [
       "<matplotlib.axes._subplots.AxesSubplot at 0x7f3bc1b26790>"
      ]
     },
     "execution_count": 29,
     "metadata": {},
     "output_type": "execute_result"
    },
    {
     "data": {
      "image/png": "[encoded data removed]",
      "text/plain": [
       "<Figure size 1440x1440 with 2 Axes>"
      ]
     },
     "metadata": {
      "needs_background": "light"
     },
     "output_type": "display_data"
    }
   ],
   "source": [
    "import seaborn as sns\n",
    "fig, ax = plt.subplots(figsize=(20,20))   #20*20 kare şeklinde getirdik\n",
    "sns.heatmap(df.corr(), annot = True)"
   ]
  },
  {
   "cell_type": "code",
   "execution_count": 30,
   "metadata": {
    "ExecuteTime": {
     "end_time": "2020-10-24T09:42:45.417813Z",
     "start_time": "2020-10-24T09:42:45.414253Z"
    }
   },
   "outputs": [],
   "source": [
    "df['TOPLAM_SATIS'] = (df['PERAKENDE_SATIS'] + df['TOPTAN_SATIS']) * (-1)"
   ]
  },
  {
   "cell_type": "code",
   "execution_count": 31,
   "metadata": {
    "ExecuteTime": {
     "end_time": "2020-10-24T09:42:45.429854Z",
     "start_time": "2020-10-24T09:42:45.419082Z"
    }
   },
   "outputs": [],
   "source": [
    "df.drop('PERAKENDE_SATIS', axis='columns', inplace=True)\n",
    "df.drop('TOPTAN_SATIS', axis='columns', inplace=True)"
   ]
  },
  {
   "cell_type": "code",
   "execution_count": 32,
   "metadata": {
    "ExecuteTime": {
     "end_time": "2020-10-24T09:42:45.451035Z",
     "start_time": "2020-10-24T09:42:45.431096Z"
    }
   },
   "outputs": [
    {
     "data": {
      "text/html": [
       "<div>\n",
       "<style scoped>\n",
       "    .dataframe tbody tr th:only-of-type {\n",
       "        vertical-align: middle;\n",
       "    }\n",
       "\n",
       "    .dataframe tbody tr th {\n",
       "        vertical-align: top;\n",
       "    }\n",
       "\n",
       "    .dataframe thead th {\n",
       "        text-align: right;\n",
       "    }\n",
       "</style>\n",
       "<table border=\"1\" class=\"dataframe\">\n",
       "  <thead>\n",
       "    <tr style=\"text-align: right;\">\n",
       "      <th></th>\n",
       "      <th>Date</th>\n",
       "      <th>sto_kod</th>\n",
       "      <th>SIPARIS_TIPI</th>\n",
       "      <th>dep_no</th>\n",
       "      <th>dep_adi</th>\n",
       "      <th>GUN_BASI_MEVCUT</th>\n",
       "      <th>DEPOLARDAN_SEVKIYAT</th>\n",
       "      <th>MAGAZALARDAN_TRANSFER</th>\n",
       "      <th>FIRMADAN_GELEN</th>\n",
       "      <th>SATIS_IADE</th>\n",
       "      <th>VIRMAN_GIRISI</th>\n",
       "      <th>HAVUZ_DEPODAN_TRANSFER</th>\n",
       "      <th>DEPOLARA_IADE</th>\n",
       "      <th>MAGAZALARA_TRANSFER</th>\n",
       "      <th>FIRMAYA_IADE</th>\n",
       "      <th>VIRMAN_CIKISI</th>\n",
       "      <th>SARF_CIKISI</th>\n",
       "      <th>FIRE_CIKISI</th>\n",
       "      <th>GUN_SONU_MEVCUT</th>\n",
       "      <th>MALIYET</th>\n",
       "      <th>Unnamed: 22</th>\n",
       "      <th>PROMOSYON</th>\n",
       "      <th>SATIS_FIYATI</th>\n",
       "      <th>is_official_holiday</th>\n",
       "      <th>is_ramadan</th>\n",
       "      <th>is_ramadan_feast</th>\n",
       "      <th>is_kurban_feast</th>\n",
       "      <th>is_arefe_day</th>\n",
       "      <th>is_asura_day</th>\n",
       "      <th>kar_marji</th>\n",
       "      <th>TOPLAM_SATIS</th>\n",
       "    </tr>\n",
       "  </thead>\n",
       "  <tbody>\n",
       "    <tr>\n",
       "      <th>4</th>\n",
       "      <td>2018-01-01</td>\n",
       "      <td>111824</td>\n",
       "      <td>Depo</td>\n",
       "      <td>6</td>\n",
       "      <td>KASIMPAŞA ŞUBE</td>\n",
       "      <td>18</td>\n",
       "      <td>0</td>\n",
       "      <td>0</td>\n",
       "      <td>0</td>\n",
       "      <td>0</td>\n",
       "      <td>0</td>\n",
       "      <td>0</td>\n",
       "      <td>0</td>\n",
       "      <td>0</td>\n",
       "      <td>0</td>\n",
       "      <td>0</td>\n",
       "      <td>0</td>\n",
       "      <td>0</td>\n",
       "      <td>14</td>\n",
       "      <td>24.54</td>\n",
       "      <td>NaN</td>\n",
       "      <td>0</td>\n",
       "      <td>29.95</td>\n",
       "      <td>True</td>\n",
       "      <td>False</td>\n",
       "      <td>False</td>\n",
       "      <td>False</td>\n",
       "      <td>False</td>\n",
       "      <td>False</td>\n",
       "      <td>18.063439</td>\n",
       "      <td>4</td>\n",
       "    </tr>\n",
       "    <tr>\n",
       "      <th>14</th>\n",
       "      <td>2018-01-02</td>\n",
       "      <td>111824</td>\n",
       "      <td>Depo</td>\n",
       "      <td>6</td>\n",
       "      <td>KASIMPAŞA ŞUBE</td>\n",
       "      <td>14</td>\n",
       "      <td>0</td>\n",
       "      <td>0</td>\n",
       "      <td>0</td>\n",
       "      <td>0</td>\n",
       "      <td>0</td>\n",
       "      <td>0</td>\n",
       "      <td>0</td>\n",
       "      <td>0</td>\n",
       "      <td>0</td>\n",
       "      <td>0</td>\n",
       "      <td>0</td>\n",
       "      <td>0</td>\n",
       "      <td>7</td>\n",
       "      <td>24.54</td>\n",
       "      <td>NaN</td>\n",
       "      <td>0</td>\n",
       "      <td>29.95</td>\n",
       "      <td>False</td>\n",
       "      <td>False</td>\n",
       "      <td>False</td>\n",
       "      <td>False</td>\n",
       "      <td>False</td>\n",
       "      <td>False</td>\n",
       "      <td>18.063439</td>\n",
       "      <td>7</td>\n",
       "    </tr>\n",
       "    <tr>\n",
       "      <th>24</th>\n",
       "      <td>2018-01-03</td>\n",
       "      <td>111824</td>\n",
       "      <td>Depo</td>\n",
       "      <td>6</td>\n",
       "      <td>KASIMPAŞA ŞUBE</td>\n",
       "      <td>7</td>\n",
       "      <td>0</td>\n",
       "      <td>0</td>\n",
       "      <td>0</td>\n",
       "      <td>0</td>\n",
       "      <td>0</td>\n",
       "      <td>0</td>\n",
       "      <td>0</td>\n",
       "      <td>0</td>\n",
       "      <td>0</td>\n",
       "      <td>0</td>\n",
       "      <td>0</td>\n",
       "      <td>0</td>\n",
       "      <td>1</td>\n",
       "      <td>24.54</td>\n",
       "      <td>NaN</td>\n",
       "      <td>0</td>\n",
       "      <td>29.95</td>\n",
       "      <td>False</td>\n",
       "      <td>False</td>\n",
       "      <td>False</td>\n",
       "      <td>False</td>\n",
       "      <td>False</td>\n",
       "      <td>False</td>\n",
       "      <td>18.063439</td>\n",
       "      <td>6</td>\n",
       "    </tr>\n",
       "    <tr>\n",
       "      <th>94</th>\n",
       "      <td>2018-01-10</td>\n",
       "      <td>111824</td>\n",
       "      <td>Depo</td>\n",
       "      <td>6</td>\n",
       "      <td>KASIMPAŞA ŞUBE</td>\n",
       "      <td>60</td>\n",
       "      <td>0</td>\n",
       "      <td>0</td>\n",
       "      <td>0</td>\n",
       "      <td>0</td>\n",
       "      <td>0</td>\n",
       "      <td>0</td>\n",
       "      <td>0</td>\n",
       "      <td>0</td>\n",
       "      <td>0</td>\n",
       "      <td>0</td>\n",
       "      <td>0</td>\n",
       "      <td>0</td>\n",
       "      <td>56</td>\n",
       "      <td>24.54</td>\n",
       "      <td>NaN</td>\n",
       "      <td>0</td>\n",
       "      <td>29.95</td>\n",
       "      <td>False</td>\n",
       "      <td>False</td>\n",
       "      <td>False</td>\n",
       "      <td>False</td>\n",
       "      <td>False</td>\n",
       "      <td>False</td>\n",
       "      <td>18.063439</td>\n",
       "      <td>4</td>\n",
       "    </tr>\n",
       "    <tr>\n",
       "      <th>104</th>\n",
       "      <td>2018-01-11</td>\n",
       "      <td>111824</td>\n",
       "      <td>Depo</td>\n",
       "      <td>6</td>\n",
       "      <td>KASIMPAŞA ŞUBE</td>\n",
       "      <td>56</td>\n",
       "      <td>0</td>\n",
       "      <td>0</td>\n",
       "      <td>0</td>\n",
       "      <td>0</td>\n",
       "      <td>0</td>\n",
       "      <td>0</td>\n",
       "      <td>0</td>\n",
       "      <td>0</td>\n",
       "      <td>0</td>\n",
       "      <td>0</td>\n",
       "      <td>0</td>\n",
       "      <td>0</td>\n",
       "      <td>51</td>\n",
       "      <td>24.54</td>\n",
       "      <td>NaN</td>\n",
       "      <td>0</td>\n",
       "      <td>29.95</td>\n",
       "      <td>False</td>\n",
       "      <td>False</td>\n",
       "      <td>False</td>\n",
       "      <td>False</td>\n",
       "      <td>False</td>\n",
       "      <td>False</td>\n",
       "      <td>18.063439</td>\n",
       "      <td>5</td>\n",
       "    </tr>\n",
       "  </tbody>\n",
       "</table>\n",
       "</div>"
      ],
      "text/plain": [
       "          Date  sto_kod SIPARIS_TIPI  dep_no         dep_adi  GUN_BASI_MEVCUT  \\\n",
       "4   2018-01-01   111824         Depo       6  KASIMPAŞA ŞUBE               18   \n",
       "14  2018-01-02   111824         Depo       6  KASIMPAŞA ŞUBE               14   \n",
       "24  2018-01-03   111824         Depo       6  KASIMPAŞA ŞUBE                7   \n",
       "94  2018-01-10   111824         Depo       6  KASIMPAŞA ŞUBE               60   \n",
       "104 2018-01-11   111824         Depo       6  KASIMPAŞA ŞUBE               56   \n",
       "\n",
       "     DEPOLARDAN_SEVKIYAT  MAGAZALARDAN_TRANSFER  FIRMADAN_GELEN  SATIS_IADE  \\\n",
       "4                      0                      0               0           0   \n",
       "14                     0                      0               0           0   \n",
       "24                     0                      0               0           0   \n",
       "94                     0                      0               0           0   \n",
       "104                    0                      0               0           0   \n",
       "\n",
       "     VIRMAN_GIRISI  HAVUZ_DEPODAN_TRANSFER  DEPOLARA_IADE  \\\n",
       "4                0                       0              0   \n",
       "14               0                       0              0   \n",
       "24               0                       0              0   \n",
       "94               0                       0              0   \n",
       "104              0                       0              0   \n",
       "\n",
       "     MAGAZALARA_TRANSFER  FIRMAYA_IADE  VIRMAN_CIKISI  SARF_CIKISI  \\\n",
       "4                      0             0              0            0   \n",
       "14                     0             0              0            0   \n",
       "24                     0             0              0            0   \n",
       "94                     0             0              0            0   \n",
       "104                    0             0              0            0   \n",
       "\n",
       "     FIRE_CIKISI  GUN_SONU_MEVCUT  MALIYET  Unnamed: 22  PROMOSYON  \\\n",
       "4              0               14    24.54          NaN          0   \n",
       "14             0                7    24.54          NaN          0   \n",
       "24             0                1    24.54          NaN          0   \n",
       "94             0               56    24.54          NaN          0   \n",
       "104            0               51    24.54          NaN          0   \n",
       "\n",
       "     SATIS_FIYATI  is_official_holiday  is_ramadan  is_ramadan_feast  \\\n",
       "4           29.95                 True       False             False   \n",
       "14          29.95                False       False             False   \n",
       "24          29.95                False       False             False   \n",
       "94          29.95                False       False             False   \n",
       "104         29.95                False       False             False   \n",
       "\n",
       "     is_kurban_feast  is_arefe_day  is_asura_day  kar_marji  TOPLAM_SATIS  \n",
       "4              False         False         False  18.063439             4  \n",
       "14             False         False         False  18.063439             7  \n",
       "24             False         False         False  18.063439             6  \n",
       "94             False         False         False  18.063439             4  \n",
       "104            False         False         False  18.063439             5  "
      ]
     },
     "execution_count": 32,
     "metadata": {},
     "output_type": "execute_result"
    }
   ],
   "source": [
    "df.head()"
   ]
  },
  {
   "cell_type": "code",
   "execution_count": 33,
   "metadata": {
    "ExecuteTime": {
     "end_time": "2020-10-24T09:42:45.457082Z",
     "start_time": "2020-10-24T09:42:45.452319Z"
    }
   },
   "outputs": [],
   "source": [
    "df['GECEN_HAFTA_ORTALAMA'] = df.iloc[:,30].rolling(window=7).mean()"
   ]
  },
  {
   "cell_type": "code",
   "execution_count": 34,
   "metadata": {
    "ExecuteTime": {
     "end_time": "2020-10-24T09:42:45.462755Z",
     "start_time": "2020-10-24T09:42:45.458499Z"
    }
   },
   "outputs": [],
   "source": [
    "df['GECEN_AY_ORTALAMA'] = df.iloc[:,30].rolling(window=30).mean()"
   ]
  },
  {
   "cell_type": "code",
   "execution_count": 35,
   "metadata": {
    "ExecuteTime": {
     "end_time": "2020-10-24T09:42:45.468286Z",
     "start_time": "2020-10-24T09:42:45.464285Z"
    }
   },
   "outputs": [],
   "source": [
    "df['UC_GUNLUK_ORTALAMA'] = df.iloc[:,30].rolling(window=3).mean()"
   ]
  },
  {
   "cell_type": "code",
   "execution_count": 36,
   "metadata": {
    "ExecuteTime": {
     "end_time": "2020-10-24T09:42:45.492333Z",
     "start_time": "2020-10-24T09:42:45.469808Z"
    }
   },
   "outputs": [
    {
     "data": {
      "text/html": [
       "<div>\n",
       "<style scoped>\n",
       "    .dataframe tbody tr th:only-of-type {\n",
       "        vertical-align: middle;\n",
       "    }\n",
       "\n",
       "    .dataframe tbody tr th {\n",
       "        vertical-align: top;\n",
       "    }\n",
       "\n",
       "    .dataframe thead th {\n",
       "        text-align: right;\n",
       "    }\n",
       "</style>\n",
       "<table border=\"1\" class=\"dataframe\">\n",
       "  <thead>\n",
       "    <tr style=\"text-align: right;\">\n",
       "      <th></th>\n",
       "      <th>Date</th>\n",
       "      <th>sto_kod</th>\n",
       "      <th>SIPARIS_TIPI</th>\n",
       "      <th>dep_no</th>\n",
       "      <th>dep_adi</th>\n",
       "      <th>GUN_BASI_MEVCUT</th>\n",
       "      <th>DEPOLARDAN_SEVKIYAT</th>\n",
       "      <th>MAGAZALARDAN_TRANSFER</th>\n",
       "      <th>FIRMADAN_GELEN</th>\n",
       "      <th>SATIS_IADE</th>\n",
       "      <th>VIRMAN_GIRISI</th>\n",
       "      <th>HAVUZ_DEPODAN_TRANSFER</th>\n",
       "      <th>DEPOLARA_IADE</th>\n",
       "      <th>MAGAZALARA_TRANSFER</th>\n",
       "      <th>FIRMAYA_IADE</th>\n",
       "      <th>VIRMAN_CIKISI</th>\n",
       "      <th>SARF_CIKISI</th>\n",
       "      <th>FIRE_CIKISI</th>\n",
       "      <th>GUN_SONU_MEVCUT</th>\n",
       "      <th>MALIYET</th>\n",
       "      <th>Unnamed: 22</th>\n",
       "      <th>PROMOSYON</th>\n",
       "      <th>SATIS_FIYATI</th>\n",
       "      <th>is_official_holiday</th>\n",
       "      <th>is_ramadan</th>\n",
       "      <th>is_ramadan_feast</th>\n",
       "      <th>is_kurban_feast</th>\n",
       "      <th>is_arefe_day</th>\n",
       "      <th>is_asura_day</th>\n",
       "      <th>kar_marji</th>\n",
       "      <th>TOPLAM_SATIS</th>\n",
       "      <th>GECEN_HAFTA_ORTALAMA</th>\n",
       "      <th>GECEN_AY_ORTALAMA</th>\n",
       "      <th>UC_GUNLUK_ORTALAMA</th>\n",
       "    </tr>\n",
       "  </thead>\n",
       "  <tbody>\n",
       "    <tr>\n",
       "      <th>9944</th>\n",
       "      <td>2020-09-21</td>\n",
       "      <td>111824</td>\n",
       "      <td>Firma</td>\n",
       "      <td>6</td>\n",
       "      <td>KASIMPAŞA ŞUBE</td>\n",
       "      <td>39</td>\n",
       "      <td>0</td>\n",
       "      <td>0</td>\n",
       "      <td>0</td>\n",
       "      <td>0</td>\n",
       "      <td>0</td>\n",
       "      <td>0</td>\n",
       "      <td>0</td>\n",
       "      <td>0</td>\n",
       "      <td>0</td>\n",
       "      <td>0</td>\n",
       "      <td>0</td>\n",
       "      <td>0</td>\n",
       "      <td>38</td>\n",
       "      <td>35.195551</td>\n",
       "      <td>NaN</td>\n",
       "      <td>0</td>\n",
       "      <td>53.75</td>\n",
       "      <td>False</td>\n",
       "      <td>False</td>\n",
       "      <td>False</td>\n",
       "      <td>False</td>\n",
       "      <td>False</td>\n",
       "      <td>False</td>\n",
       "      <td>34.519906</td>\n",
       "      <td>1</td>\n",
       "      <td>1.857143</td>\n",
       "      <td>1.933333</td>\n",
       "      <td>2.333333</td>\n",
       "    </tr>\n",
       "    <tr>\n",
       "      <th>9954</th>\n",
       "      <td>2020-09-22</td>\n",
       "      <td>111824</td>\n",
       "      <td>Firma</td>\n",
       "      <td>6</td>\n",
       "      <td>KASIMPAŞA ŞUBE</td>\n",
       "      <td>38</td>\n",
       "      <td>0</td>\n",
       "      <td>0</td>\n",
       "      <td>0</td>\n",
       "      <td>0</td>\n",
       "      <td>0</td>\n",
       "      <td>0</td>\n",
       "      <td>0</td>\n",
       "      <td>0</td>\n",
       "      <td>0</td>\n",
       "      <td>0</td>\n",
       "      <td>0</td>\n",
       "      <td>0</td>\n",
       "      <td>37</td>\n",
       "      <td>35.195551</td>\n",
       "      <td>NaN</td>\n",
       "      <td>0</td>\n",
       "      <td>53.75</td>\n",
       "      <td>False</td>\n",
       "      <td>False</td>\n",
       "      <td>False</td>\n",
       "      <td>False</td>\n",
       "      <td>False</td>\n",
       "      <td>False</td>\n",
       "      <td>34.519906</td>\n",
       "      <td>1</td>\n",
       "      <td>1.714286</td>\n",
       "      <td>1.933333</td>\n",
       "      <td>1.666667</td>\n",
       "    </tr>\n",
       "    <tr>\n",
       "      <th>9964</th>\n",
       "      <td>2020-09-23</td>\n",
       "      <td>111824</td>\n",
       "      <td>Firma</td>\n",
       "      <td>6</td>\n",
       "      <td>KASIMPAŞA ŞUBE</td>\n",
       "      <td>37</td>\n",
       "      <td>0</td>\n",
       "      <td>0</td>\n",
       "      <td>0</td>\n",
       "      <td>0</td>\n",
       "      <td>0</td>\n",
       "      <td>0</td>\n",
       "      <td>0</td>\n",
       "      <td>0</td>\n",
       "      <td>0</td>\n",
       "      <td>0</td>\n",
       "      <td>0</td>\n",
       "      <td>0</td>\n",
       "      <td>37</td>\n",
       "      <td>35.195551</td>\n",
       "      <td>NaN</td>\n",
       "      <td>0</td>\n",
       "      <td>53.75</td>\n",
       "      <td>False</td>\n",
       "      <td>False</td>\n",
       "      <td>False</td>\n",
       "      <td>False</td>\n",
       "      <td>False</td>\n",
       "      <td>False</td>\n",
       "      <td>34.519906</td>\n",
       "      <td>0</td>\n",
       "      <td>1.714286</td>\n",
       "      <td>1.866667</td>\n",
       "      <td>0.666667</td>\n",
       "    </tr>\n",
       "    <tr>\n",
       "      <th>9974</th>\n",
       "      <td>2020-09-24</td>\n",
       "      <td>111824</td>\n",
       "      <td>Firma</td>\n",
       "      <td>6</td>\n",
       "      <td>KASIMPAŞA ŞUBE</td>\n",
       "      <td>37</td>\n",
       "      <td>0</td>\n",
       "      <td>0</td>\n",
       "      <td>0</td>\n",
       "      <td>0</td>\n",
       "      <td>0</td>\n",
       "      <td>0</td>\n",
       "      <td>0</td>\n",
       "      <td>0</td>\n",
       "      <td>0</td>\n",
       "      <td>0</td>\n",
       "      <td>0</td>\n",
       "      <td>0</td>\n",
       "      <td>37</td>\n",
       "      <td>35.195551</td>\n",
       "      <td>NaN</td>\n",
       "      <td>0</td>\n",
       "      <td>53.75</td>\n",
       "      <td>False</td>\n",
       "      <td>False</td>\n",
       "      <td>False</td>\n",
       "      <td>False</td>\n",
       "      <td>False</td>\n",
       "      <td>False</td>\n",
       "      <td>34.519906</td>\n",
       "      <td>0</td>\n",
       "      <td>1.714286</td>\n",
       "      <td>1.800000</td>\n",
       "      <td>0.333333</td>\n",
       "    </tr>\n",
       "    <tr>\n",
       "      <th>9984</th>\n",
       "      <td>2020-09-25</td>\n",
       "      <td>111824</td>\n",
       "      <td>Firma</td>\n",
       "      <td>6</td>\n",
       "      <td>KASIMPAŞA ŞUBE</td>\n",
       "      <td>37</td>\n",
       "      <td>0</td>\n",
       "      <td>0</td>\n",
       "      <td>0</td>\n",
       "      <td>0</td>\n",
       "      <td>0</td>\n",
       "      <td>0</td>\n",
       "      <td>0</td>\n",
       "      <td>0</td>\n",
       "      <td>0</td>\n",
       "      <td>0</td>\n",
       "      <td>0</td>\n",
       "      <td>0</td>\n",
       "      <td>37</td>\n",
       "      <td>35.195551</td>\n",
       "      <td>NaN</td>\n",
       "      <td>0</td>\n",
       "      <td>53.75</td>\n",
       "      <td>False</td>\n",
       "      <td>False</td>\n",
       "      <td>False</td>\n",
       "      <td>False</td>\n",
       "      <td>False</td>\n",
       "      <td>False</td>\n",
       "      <td>34.519906</td>\n",
       "      <td>0</td>\n",
       "      <td>1.142857</td>\n",
       "      <td>1.766667</td>\n",
       "      <td>0.000000</td>\n",
       "    </tr>\n",
       "  </tbody>\n",
       "</table>\n",
       "</div>"
      ],
      "text/plain": [
       "           Date  sto_kod SIPARIS_TIPI  dep_no         dep_adi  \\\n",
       "9944 2020-09-21   111824        Firma       6  KASIMPAŞA ŞUBE   \n",
       "9954 2020-09-22   111824        Firma       6  KASIMPAŞA ŞUBE   \n",
       "9964 2020-09-23   111824        Firma       6  KASIMPAŞA ŞUBE   \n",
       "9974 2020-09-24   111824        Firma       6  KASIMPAŞA ŞUBE   \n",
       "9984 2020-09-25   111824        Firma       6  KASIMPAŞA ŞUBE   \n",
       "\n",
       "      GUN_BASI_MEVCUT  DEPOLARDAN_SEVKIYAT  MAGAZALARDAN_TRANSFER  \\\n",
       "9944               39                    0                      0   \n",
       "9954               38                    0                      0   \n",
       "9964               37                    0                      0   \n",
       "9974               37                    0                      0   \n",
       "9984               37                    0                      0   \n",
       "\n",
       "      FIRMADAN_GELEN  SATIS_IADE  VIRMAN_GIRISI  HAVUZ_DEPODAN_TRANSFER  \\\n",
       "9944               0           0              0                       0   \n",
       "9954               0           0              0                       0   \n",
       "9964               0           0              0                       0   \n",
       "9974               0           0              0                       0   \n",
       "9984               0           0              0                       0   \n",
       "\n",
       "      DEPOLARA_IADE  MAGAZALARA_TRANSFER  FIRMAYA_IADE  VIRMAN_CIKISI  \\\n",
       "9944              0                    0             0              0   \n",
       "9954              0                    0             0              0   \n",
       "9964              0                    0             0              0   \n",
       "9974              0                    0             0              0   \n",
       "9984              0                    0             0              0   \n",
       "\n",
       "      SARF_CIKISI  FIRE_CIKISI  GUN_SONU_MEVCUT    MALIYET  Unnamed: 22  \\\n",
       "9944            0            0               38  35.195551          NaN   \n",
       "9954            0            0               37  35.195551          NaN   \n",
       "9964            0            0               37  35.195551          NaN   \n",
       "9974            0            0               37  35.195551          NaN   \n",
       "9984            0            0               37  35.195551          NaN   \n",
       "\n",
       "      PROMOSYON  SATIS_FIYATI  is_official_holiday  is_ramadan  \\\n",
       "9944          0         53.75                False       False   \n",
       "9954          0         53.75                False       False   \n",
       "9964          0         53.75                False       False   \n",
       "9974          0         53.75                False       False   \n",
       "9984          0         53.75                False       False   \n",
       "\n",
       "      is_ramadan_feast  is_kurban_feast  is_arefe_day  is_asura_day  \\\n",
       "9944             False            False         False         False   \n",
       "9954             False            False         False         False   \n",
       "9964             False            False         False         False   \n",
       "9974             False            False         False         False   \n",
       "9984             False            False         False         False   \n",
       "\n",
       "      kar_marji  TOPLAM_SATIS  GECEN_HAFTA_ORTALAMA  GECEN_AY_ORTALAMA  \\\n",
       "9944  34.519906             1              1.857143           1.933333   \n",
       "9954  34.519906             1              1.714286           1.933333   \n",
       "9964  34.519906             0              1.714286           1.866667   \n",
       "9974  34.519906             0              1.714286           1.800000   \n",
       "9984  34.519906             0              1.142857           1.766667   \n",
       "\n",
       "      UC_GUNLUK_ORTALAMA  \n",
       "9944            2.333333  \n",
       "9954            1.666667  \n",
       "9964            0.666667  \n",
       "9974            0.333333  \n",
       "9984            0.000000  "
      ]
     },
     "execution_count": 36,
     "metadata": {},
     "output_type": "execute_result"
    }
   ],
   "source": [
    "df.tail()"
   ]
  },
  {
   "cell_type": "code",
   "execution_count": 37,
   "metadata": {
    "ExecuteTime": {
     "end_time": "2020-10-24T09:42:45.517530Z",
     "start_time": "2020-10-24T09:42:45.493580Z"
    }
   },
   "outputs": [
    {
     "name": "stdout",
     "output_type": "stream",
     "text": [
      "<class 'pandas.core.frame.DataFrame'>\n",
      "Int64Index: 993 entries, 4 to 9984\n",
      "Data columns (total 35 columns):\n",
      "Date                      993 non-null datetime64[ns]\n",
      "sto_kod                   993 non-null int64\n",
      "dep_no                    993 non-null int64\n",
      "GUN_BASI_MEVCUT           993 non-null int64\n",
      "DEPOLARDAN_SEVKIYAT       993 non-null int64\n",
      "MAGAZALARDAN_TRANSFER     993 non-null int64\n",
      "FIRMADAN_GELEN            993 non-null int64\n",
      "SATIS_IADE                993 non-null int64\n",
      "VIRMAN_GIRISI             993 non-null int64\n",
      "HAVUZ_DEPODAN_TRANSFER    993 non-null int64\n",
      "DEPOLARA_IADE             993 non-null int64\n",
      "MAGAZALARA_TRANSFER       993 non-null int64\n",
      "FIRMAYA_IADE              993 non-null int64\n",
      "VIRMAN_CIKISI             993 non-null int64\n",
      "SARF_CIKISI               993 non-null int64\n",
      "FIRE_CIKISI               993 non-null int64\n",
      "GUN_SONU_MEVCUT           993 non-null int64\n",
      "MALIYET                   993 non-null float64\n",
      "Unnamed: 22               0 non-null float64\n",
      "PROMOSYON                 993 non-null int64\n",
      "SATIS_FIYATI              993 non-null float64\n",
      "is_official_holiday       993 non-null bool\n",
      "is_ramadan                993 non-null bool\n",
      "is_ramadan_feast          993 non-null bool\n",
      "is_kurban_feast           993 non-null bool\n",
      "is_arefe_day              993 non-null bool\n",
      "is_asura_day              993 non-null bool\n",
      "kar_marji                 993 non-null float64\n",
      "TOPLAM_SATIS              993 non-null int64\n",
      "GECEN_HAFTA_ORTALAMA      987 non-null float64\n",
      "GECEN_AY_ORTALAMA         964 non-null float64\n",
      "UC_GUNLUK_ORTALAMA        991 non-null float64\n",
      "SIPARIS_TIPI_Depo         993 non-null uint8\n",
      "SIPARIS_TIPI_Firma        993 non-null uint8\n",
      "dep_adi_KASIMPAŞA ŞUBE    993 non-null uint8\n",
      "dtypes: bool(6), datetime64[ns](1), float64(7), int64(18), uint8(3)\n",
      "memory usage: 218.2 KB\n"
     ]
    }
   ],
   "source": [
    "pd.get_dummies(df).info()"
   ]
  },
  {
   "cell_type": "code",
   "execution_count": 38,
   "metadata": {
    "ExecuteTime": {
     "end_time": "2020-10-24T09:42:45.543931Z",
     "start_time": "2020-10-24T09:42:45.519426Z"
    }
   },
   "outputs": [
    {
     "data": {
      "text/plain": [
       "TOPLAM_SATIS              1.000000\n",
       "UC_GUNLUK_ORTALAMA        0.716943\n",
       "GECEN_HAFTA_ORTALAMA      0.530755\n",
       "is_asura_day              0.459131\n",
       "PROMOSYON                 0.401071\n",
       "GECEN_AY_ORTALAMA         0.315919\n",
       "kar_marji                 0.294943\n",
       "SATIS_FIYATI              0.211854\n",
       "GUN_BASI_MEVCUT           0.200108\n",
       "SIPARIS_TIPI_Firma        0.180486\n",
       "DEPOLARDAN_SEVKIYAT       0.157656\n",
       "GUN_SONU_MEVCUT           0.146975\n",
       "MALIYET                   0.122381\n",
       "SARF_CIKISI               0.077655\n",
       "is_kurban_feast           0.053297\n",
       "is_ramadan_feast          0.053224\n",
       "is_official_holiday       0.052024\n",
       "MAGAZALARDAN_TRANSFER     0.036180\n",
       "SATIS_IADE                0.027265\n",
       "is_arefe_day              0.026443\n",
       "is_ramadan                0.021156\n",
       "FIRE_CIKISI               0.020470\n",
       "DEPOLARA_IADE             0.000660\n",
       "sto_kod                        NaN\n",
       "dep_no                         NaN\n",
       "FIRMADAN_GELEN                 NaN\n",
       "VIRMAN_GIRISI                  NaN\n",
       "HAVUZ_DEPODAN_TRANSFER         NaN\n",
       "MAGAZALARA_TRANSFER            NaN\n",
       "FIRMAYA_IADE                   NaN\n",
       "VIRMAN_CIKISI                  NaN\n",
       "Unnamed: 22                    NaN\n",
       "Name: TOPLAM_SATIS, dtype: float64"
      ]
     },
     "execution_count": 38,
     "metadata": {},
     "output_type": "execute_result"
    }
   ],
   "source": [
    "abs(pd.get_dummies(df, drop_first=True).corr()['TOPLAM_SATIS']).sort_values(ascending=False)"
   ]
  },
  {
   "cell_type": "code",
   "execution_count": 39,
   "metadata": {
    "ExecuteTime": {
     "end_time": "2020-10-24T09:42:45.562625Z",
     "start_time": "2020-10-24T09:42:45.545163Z"
    }
   },
   "outputs": [],
   "source": [
    "X = pd.get_dummies(df, drop_first=True)"
   ]
  },
  {
   "cell_type": "code",
   "execution_count": 40,
   "metadata": {
    "ExecuteTime": {
     "end_time": "2020-10-24T09:42:45.570353Z",
     "start_time": "2020-10-24T09:42:45.563827Z"
    }
   },
   "outputs": [],
   "source": [
    "X = X[{'TOPLAM_SATIS', 'UC_GUNLUK_ORTALAMA', 'GECEN_HAFTA_ORTALAMA', 'is_asura_day', 'PROMOSYON', 'GECEN_AY_ORTALAMA', 'kar_marji', 'SATIS_FIYATI', 'MALIYET'}]"
   ]
  },
  {
   "cell_type": "code",
   "execution_count": 41,
   "metadata": {
    "ExecuteTime": {
     "end_time": "2020-10-24T09:42:45.576819Z",
     "start_time": "2020-10-24T09:42:45.571840Z"
    }
   },
   "outputs": [],
   "source": [
    "X = X.dropna()"
   ]
  },
  {
   "cell_type": "code",
   "execution_count": 42,
   "metadata": {
    "ExecuteTime": {
     "end_time": "2020-10-24T09:42:45.588440Z",
     "start_time": "2020-10-24T09:42:45.578294Z"
    }
   },
   "outputs": [
    {
     "data": {
      "text/html": [
       "<div>\n",
       "<style scoped>\n",
       "    .dataframe tbody tr th:only-of-type {\n",
       "        vertical-align: middle;\n",
       "    }\n",
       "\n",
       "    .dataframe tbody tr th {\n",
       "        vertical-align: top;\n",
       "    }\n",
       "\n",
       "    .dataframe thead th {\n",
       "        text-align: right;\n",
       "    }\n",
       "</style>\n",
       "<table border=\"1\" class=\"dataframe\">\n",
       "  <thead>\n",
       "    <tr style=\"text-align: right;\">\n",
       "      <th></th>\n",
       "      <th>UC_GUNLUK_ORTALAMA</th>\n",
       "      <th>PROMOSYON</th>\n",
       "      <th>is_asura_day</th>\n",
       "      <th>GECEN_AY_ORTALAMA</th>\n",
       "      <th>kar_marji</th>\n",
       "      <th>MALIYET</th>\n",
       "      <th>TOPLAM_SATIS</th>\n",
       "      <th>SATIS_FIYATI</th>\n",
       "      <th>GECEN_HAFTA_ORTALAMA</th>\n",
       "    </tr>\n",
       "  </thead>\n",
       "  <tbody>\n",
       "    <tr>\n",
       "      <th>354</th>\n",
       "      <td>5.666667</td>\n",
       "      <td>0</td>\n",
       "      <td>False</td>\n",
       "      <td>5.300000</td>\n",
       "      <td>16.225142</td>\n",
       "      <td>25.09057</td>\n",
       "      <td>5</td>\n",
       "      <td>29.95</td>\n",
       "      <td>5.714286</td>\n",
       "    </tr>\n",
       "    <tr>\n",
       "      <th>364</th>\n",
       "      <td>3.666667</td>\n",
       "      <td>0</td>\n",
       "      <td>False</td>\n",
       "      <td>5.266667</td>\n",
       "      <td>16.225142</td>\n",
       "      <td>25.09057</td>\n",
       "      <td>3</td>\n",
       "      <td>29.95</td>\n",
       "      <td>6.000000</td>\n",
       "    </tr>\n",
       "    <tr>\n",
       "      <th>374</th>\n",
       "      <td>5.666667</td>\n",
       "      <td>0</td>\n",
       "      <td>False</td>\n",
       "      <td>5.333333</td>\n",
       "      <td>16.225142</td>\n",
       "      <td>25.09057</td>\n",
       "      <td>9</td>\n",
       "      <td>29.95</td>\n",
       "      <td>6.714286</td>\n",
       "    </tr>\n",
       "    <tr>\n",
       "      <th>384</th>\n",
       "      <td>5.000000</td>\n",
       "      <td>0</td>\n",
       "      <td>False</td>\n",
       "      <td>5.233333</td>\n",
       "      <td>16.225142</td>\n",
       "      <td>25.09057</td>\n",
       "      <td>3</td>\n",
       "      <td>29.95</td>\n",
       "      <td>5.857143</td>\n",
       "    </tr>\n",
       "    <tr>\n",
       "      <th>394</th>\n",
       "      <td>4.666667</td>\n",
       "      <td>0</td>\n",
       "      <td>False</td>\n",
       "      <td>5.166667</td>\n",
       "      <td>16.225142</td>\n",
       "      <td>25.09057</td>\n",
       "      <td>2</td>\n",
       "      <td>29.95</td>\n",
       "      <td>4.857143</td>\n",
       "    </tr>\n",
       "  </tbody>\n",
       "</table>\n",
       "</div>"
      ],
      "text/plain": [
       "     UC_GUNLUK_ORTALAMA  PROMOSYON  is_asura_day  GECEN_AY_ORTALAMA  \\\n",
       "354            5.666667          0         False           5.300000   \n",
       "364            3.666667          0         False           5.266667   \n",
       "374            5.666667          0         False           5.333333   \n",
       "384            5.000000          0         False           5.233333   \n",
       "394            4.666667          0         False           5.166667   \n",
       "\n",
       "     kar_marji   MALIYET  TOPLAM_SATIS  SATIS_FIYATI  GECEN_HAFTA_ORTALAMA  \n",
       "354  16.225142  25.09057             5         29.95              5.714286  \n",
       "364  16.225142  25.09057             3         29.95              6.000000  \n",
       "374  16.225142  25.09057             9         29.95              6.714286  \n",
       "384  16.225142  25.09057             3         29.95              5.857143  \n",
       "394  16.225142  25.09057             2         29.95              4.857143  "
      ]
     },
     "execution_count": 42,
     "metadata": {},
     "output_type": "execute_result"
    }
   ],
   "source": [
    "X.head()"
   ]
  },
  {
   "cell_type": "code",
   "execution_count": 43,
   "metadata": {
    "ExecuteTime": {
     "end_time": "2020-10-24T09:42:45.866298Z",
     "start_time": "2020-10-24T09:42:45.590500Z"
    }
   },
   "outputs": [],
   "source": [
    "a = X\n",
    "y = X['TOPLAM_SATIS']\n",
    "del a['TOPLAM_SATIS']\n",
    "\n",
    "from sklearn.metrics import mean_squared_error, r2_score\n",
    "\n",
    "from sklearn.linear_model import LinearRegression\n",
    "from sklearn.model_selection import train_test_split\n",
    "\n",
    "x_train, x_test, y_train, y_test = train_test_split(a, y, test_size = 0.2, random_state = 13)"
   ]
  },
  {
   "cell_type": "code",
   "execution_count": 44,
   "metadata": {
    "ExecuteTime": {
     "end_time": "2020-10-24T09:42:45.878573Z",
     "start_time": "2020-10-24T09:42:45.867578Z"
    }
   },
   "outputs": [
    {
     "data": {
      "text/plain": [
       "(3.468973665246617, 0.4889603004235289)"
      ]
     },
     "execution_count": 44,
     "metadata": {},
     "output_type": "execute_result"
    }
   ],
   "source": [
    "lr = LinearRegression()\n",
    "regmodel = lr.fit(x_train, y_train)\n",
    "y_pretest = lr.predict(x_test)\n",
    "(mean_squared_error(y_test, y_pretest))**0.5, r2_score(y_test, y_pretest)"
   ]
  },
  {
   "cell_type": "code",
   "execution_count": 45,
   "metadata": {
    "ExecuteTime": {
     "end_time": "2020-10-24T09:42:45.892154Z",
     "start_time": "2020-10-24T09:42:45.880075Z"
    }
   },
   "outputs": [
    {
     "data": {
      "text/plain": [
       "(3.4690767159352855, 0.4889299376821109)"
      ]
     },
     "execution_count": 45,
     "metadata": {},
     "output_type": "execute_result"
    }
   ],
   "source": [
    "from sklearn.linear_model import Ridge, Lasso\n",
    "R = Ridge()\n",
    "R.fit(x_train, y_train)\n",
    "y_pred_ridge = R.predict(x_test)\n",
    "(mean_squared_error(y_test, y_pred_ridge))**0.5, r2_score(y_test, y_pred_ridge)"
   ]
  },
  {
   "cell_type": "code",
   "execution_count": 46,
   "metadata": {
    "ExecuteTime": {
     "end_time": "2020-10-24T09:42:45.903396Z",
     "start_time": "2020-10-24T09:42:45.893862Z"
    }
   },
   "outputs": [
    {
     "data": {
      "text/plain": [
       "(3.4486455508292932, 0.4949321159307767)"
      ]
     },
     "execution_count": 46,
     "metadata": {},
     "output_type": "execute_result"
    }
   ],
   "source": [
    "L = Lasso()\n",
    "L.fit(x_train, y_train)\n",
    "y_pred_lasso = L.predict(x_test)\n",
    "(mean_squared_error(y_test, y_pred_lasso))**0.5, r2_score(y_test, y_pred_lasso)"
   ]
  },
  {
   "cell_type": "code",
   "execution_count": 47,
   "metadata": {
    "ExecuteTime": {
     "end_time": "2020-10-24T09:42:45.918809Z",
     "start_time": "2020-10-24T09:42:45.904904Z"
    }
   },
   "outputs": [
    {
     "data": {
      "text/plain": [
       "(3.4477402760997746, 0.49519724331150927)"
      ]
     },
     "execution_count": 47,
     "metadata": {},
     "output_type": "execute_result"
    }
   ],
   "source": [
    "from sklearn.linear_model import ElasticNet\n",
    "E = ElasticNet(l1_ratio = .8)\n",
    "E.fit(x_train, y_train)\n",
    "y_pred_elastic = E.predict(x_test)\n",
    "(mean_squared_error(y_test, y_pred_elastic))**0.5, r2_score(y_test, y_pred_elastic)"
   ]
  },
  {
   "cell_type": "code",
   "execution_count": 48,
   "metadata": {
    "ExecuteTime": {
     "end_time": "2020-10-24T09:42:45.943351Z",
     "start_time": "2020-10-24T09:42:45.920307Z"
    }
   },
   "outputs": [
    {
     "data": {
      "text/plain": [
       "(5.794405019816854, -0.42583847702610567)"
      ]
     },
     "execution_count": 48,
     "metadata": {},
     "output_type": "execute_result"
    }
   ],
   "source": [
    "from sklearn.tree import ExtraTreeRegressor\n",
    "ETR = ExtraTreeRegressor()\n",
    "ETR.fit(x_train, y_train)\n",
    "y_pred_etr = ETR.predict(x_test)\n",
    "(mean_squared_error(y_test, y_pred_etr))**0.5, r2_score(y_test, y_pred_etr)"
   ]
  },
  {
   "cell_type": "code",
   "execution_count": 49,
   "metadata": {
    "ExecuteTime": {
     "end_time": "2020-10-24T09:42:46.018957Z",
     "start_time": "2020-10-24T09:42:45.944740Z"
    }
   },
   "outputs": [
    {
     "data": {
      "text/plain": [
       "(3.884542263705942, 0.3591854925903629)"
      ]
     },
     "execution_count": 49,
     "metadata": {},
     "output_type": "execute_result"
    }
   ],
   "source": [
    "from sklearn.ensemble import GradientBoostingRegressor\n",
    "GBR = GradientBoostingRegressor()\n",
    "GBR.fit(x_train, y_train)\n",
    "y_pred_gbr = GBR.predict(x_test)\n",
    "(mean_squared_error(y_test, y_pred_gbr))**0.5, r2_score(y_test, y_pred_gbr)"
   ]
  },
  {
   "cell_type": "code",
   "execution_count": 50,
   "metadata": {
    "ExecuteTime": {
     "end_time": "2020-10-24T09:42:46.320136Z",
     "start_time": "2020-10-24T09:42:46.020757Z"
    }
   },
   "outputs": [
    {
     "name": "stdout",
     "output_type": "stream",
     "text": [
      "[12:42:46] WARNING: /workspace/src/objective/regression_obj.cu:152: reg:linear is now deprecated in favor of reg:squarederror.\n"
     ]
    },
    {
     "data": {
      "text/plain": [
       "(3.9080099936982973, 0.35141938434512954)"
      ]
     },
     "execution_count": 50,
     "metadata": {},
     "output_type": "execute_result"
    }
   ],
   "source": [
    "from xgboost import XGBRegressor\n",
    "XGBC = XGBRegressor()\n",
    "XGBC.fit(x_train, y_train)\n",
    "y_pred_xgb = XGBC.predict(x_test)\n",
    "(mean_squared_error(y_test, y_pred_xgb))**0.5, r2_score(y_test, y_pred_xgb)"
   ]
  },
  {
   "cell_type": "code",
   "execution_count": null,
   "metadata": {},
   "outputs": [],
   "source": []
  }
 ],
 "metadata": {
  "kernelspec": {
   "display_name": "Python 3",
   "language": "python",
   "name": "python3"
  },
  "language_info": {
   "codemirror_mode": {
    "name": "ipython",
    "version": 3
   },
   "file_extension": ".py",
   "mimetype": "text/x-python",
   "name": "python",
   "nbconvert_exporter": "python",
   "pygments_lexer": "ipython3",
   "version": "3.8.5"
  },
  "name": "public_holiday_an_opendatasets",
  "notebookId": 3562356526218273,
  "toc": {
   "base_numbering": 1,
   "nav_menu": {},
   "number_sections": true,
   "sideBar": true,
   "skip_h1_title": false,
   "title_cell": "Table of Contents",
   "title_sidebar": "Contents",
   "toc_cell": false,
   "toc_position": {},
   "toc_section_display": true,
   "toc_window_display": false
  },
  "varInspector": {
   "cols": {
    "lenName": 16,
    "lenType": 16,
    "lenVar": 40
   },
   "kernels_config": {
    "python": {
     "delete_cmd_postfix": "",
     "delete_cmd_prefix": "del ",
     "library": "var_list.py",
     "varRefreshCmd": "print(var_dic_list())"
    },
    "r": {
     "delete_cmd_postfix": ") ",
     "delete_cmd_prefix": "rm(",
     "library": "var_list.r",
     "varRefreshCmd": "cat(var_dic_list()) "
    }
   },
   "types_to_exclude": [
    "module",
    "function",
    "builtin_function_or_method",
    "instance",
    "_Feature"
   ],
   "window_display": false
  }
 },
 "nbformat": 4,
 "nbformat_minor": 1
}
